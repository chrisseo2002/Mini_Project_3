{
 "cells": [
  {
   "attachments": {},
   "cell_type": "markdown",
   "metadata": {
    "id": "mJlY5pHkC2AM"
   },
   "source": [
    "** 스마트워치 센서 데이터 기반 행동 분류 1일차 **\n",
    "# ---------- 과제1 : 탐색적 데이터 분석 ----------"
   ]
  },
  {
   "attachments": {},
   "cell_type": "markdown",
   "metadata": {},
   "source": [
    "### [미션0] 미션 이해하기\n",
    "   \n",
    "   * 단말기 개발팀은 스마트워치의 센서에서 수집된 데이터를 분석하여 계단오르기 활동을 인지할 수 있는 AI 모델링을 요청 하였습니다.\n",
    "   * 또 계단오르기를 분류 할 때 어떤 feature 들이 의미있는지 의미있는 feature들을 선정해 달라는 요청이 있었습니다.\n",
    "   * 과제1 에서는 6가지의 행동패턴을 분류하는 AI 모델링을 수행하고 모델의 성능평가 지표를 출력해 주세요.\n",
    "      * 6가지 행동 패턴: STANDING, SITTING, LAYING, WALKING, WALKING_UPSTAIRS, WALKING_DOWNSTAIRS\n",
    "   \n",
    "\n",
    "   "
   ]
  },
  {
   "attachments": {},
   "cell_type": "markdown",
   "metadata": {},
   "source": [
    "※ 과제완수 조건: 훈련 데이터와 센서 그룹 데이터를 읽어와 기초 데이터 분석을 수행하고 훈련 데이터로 모델링 하여 정확도 95% 이상을 달성해 보세요."
   ]
  },
  {
   "attachments": {},
   "cell_type": "markdown",
   "metadata": {},
   "source": [
    "※  미션을 해결하면서 요구사항의 함수/변수명, 데이터 타입 잘 확인하고 코드를 작성하세요"
   ]
  },
  {
   "attachments": {},
   "cell_type": "markdown",
   "metadata": {},
   "source": [
    "---"
   ]
  },
  {
   "attachments": {},
   "cell_type": "markdown",
   "metadata": {
    "id": "I_rCs78QJZmI"
   },
   "source": [
    "### [미션1] 데이터 불러오기\n",
    "* pandas, numpy, matplotlib, seaborn, os 등 데이터 분석에필요한 라이브러리와 모듈을 불러오세요.\n",
    "* 라이브러리가 없을땐 !pip 명령어를 통해 필요한 라이브러리를 설치 하세요.\n",
    "* 현위치 하위 'data' 폴더에서 'train_data.csv' 파일 읽어 오세요."
   ]
  },
  {
   "attachments": {},
   "cell_type": "markdown",
   "metadata": {},
   "source": [
    "\t- 실습순서: 라이브러리 불러오기 -> 현재 디렉토리 확인 -> -> 현재 디렉토리 폴더, 파일 확인 -> data 폴더 파일 확인 -> train_data.csv 불러오기 -> 'subject'열 제거"
   ]
  },
  {
   "cell_type": "code",
   "execution_count": 1,
   "metadata": {
    "id": "IBCPPrgUGIAd",
    "outputId": "9150a889-5e46-4395-becf-d1916da137f6",
    "tags": []
   },
   "outputs": [],
   "source": [
    "# 필요 라이브러리 설치\n",
    "# !pip install pandas numpy\n",
    "# !pip install matplotlib seaborn"
   ]
  },
  {
   "cell_type": "code",
   "execution_count": 1,
   "metadata": {
    "executionInfo": {
     "elapsed": 750,
     "status": "ok",
     "timestamp": 1676247328542,
     "user": {
      "displayName": "YB Choi",
      "userId": "15474749006288987898"
     },
     "user_tz": -540
    },
    "id": "3rsQerEaELwI",
    "tags": []
   },
   "outputs": [],
   "source": [
    "# pandas, numpy, matplotlib.pyplot, seaborn, os 등 필요 라이브러리 호출\n",
    "## 추가로 필요한 라이브러리는 설치/호출 하세요\n",
    "import pandas as pd\n",
    "import numpy as np\n",
    "import matplotlib.pyplot as plt\n",
    "import seaborn as sns\n",
    "import os"
   ]
  },
  {
   "cell_type": "code",
   "execution_count": 2,
   "metadata": {
    "id": "fDt5qLufGIAj",
    "outputId": "9c05a7d0-7a40-49c3-c88d-51f0ef10afbb",
    "tags": []
   },
   "outputs": [
    {
     "data": {
      "text/plain": [
       "'c:\\\\Users\\\\user\\\\MiniProject_3'"
      ]
     },
     "execution_count": 2,
     "metadata": {},
     "output_type": "execute_result"
    }
   ],
   "source": [
    "# 현재 디렉토리 위치 확인\n",
    "## 현재 디렉토리가 어디인지 확인 합니다.\n",
    "## 아래의 결과는 강사의 현재 위치(에이블러 별 다를 수 있음)\n",
    "\n",
    "os.getcwd()\n"
   ]
  },
  {
   "cell_type": "code",
   "execution_count": 3,
   "metadata": {},
   "outputs": [
    {
     "data": {
      "text/plain": [
       "['data',\n",
       " '미프3차_A레벨_과제1.ipynb',\n",
       " '미프3차_A레벨_과제2.ipynb',\n",
       " '미프3차_B레벨_과제1.ipynb',\n",
       " '미프3차_B레벨_과제2.ipynb']"
      ]
     },
     "execution_count": 3,
     "metadata": {},
     "output_type": "execute_result"
    }
   ],
   "source": [
    "# 현재 디렉토리 폴더, 파일 확인\n",
    "## 현재 디렉토리의 폴더와 파일을 출력하고, 하위 data 폴더의 유무를 확인하세요.\n",
    "\n",
    "\n",
    "os.listdir('./')\n"
   ]
  },
  {
   "cell_type": "code",
   "execution_count": 4,
   "metadata": {},
   "outputs": [
    {
     "data": {
      "text/plain": [
       "['features 설명.xlsx', 'features.csv', 'train_data.csv']"
      ]
     },
     "execution_count": 4,
     "metadata": {},
     "output_type": "execute_result"
    }
   ],
   "source": [
    "# data 폴더 파일 확인\n",
    "## 현재 디렉토리의 하위 폴더인 data 폴더의 파일을 확인 합니다.\n",
    "\n",
    "os.listdir('./data/')"
   ]
  },
  {
   "cell_type": "code",
   "execution_count": 7,
   "metadata": {
    "colab": {
     "base_uri": "https://localhost:8080/",
     "height": 378
    },
    "executionInfo": {
     "elapsed": 1493,
     "status": "error",
     "timestamp": 1676247338639,
     "user": {
      "displayName": "YB Choi",
      "userId": "15474749006288987898"
     },
     "user_tz": -540
    },
    "id": "EDyeID61GIAj",
    "outputId": "24d1c312-71de-48dc-943e-06616aa184f5",
    "tags": []
   },
   "outputs": [
    {
     "data": {
      "text/html": [
       "<div>\n",
       "<style scoped>\n",
       "    .dataframe tbody tr th:only-of-type {\n",
       "        vertical-align: middle;\n",
       "    }\n",
       "\n",
       "    .dataframe tbody tr th {\n",
       "        vertical-align: top;\n",
       "    }\n",
       "\n",
       "    .dataframe thead th {\n",
       "        text-align: right;\n",
       "    }\n",
       "</style>\n",
       "<table border=\"1\" class=\"dataframe\">\n",
       "  <thead>\n",
       "    <tr style=\"text-align: right;\">\n",
       "      <th></th>\n",
       "      <th>tBodyAcc-mean()-X</th>\n",
       "      <th>tBodyAcc-mean()-Y</th>\n",
       "      <th>tBodyAcc-mean()-Z</th>\n",
       "      <th>tBodyAcc-std()-X</th>\n",
       "      <th>tBodyAcc-std()-Y</th>\n",
       "      <th>tBodyAcc-std()-Z</th>\n",
       "      <th>tBodyAcc-mad()-X</th>\n",
       "      <th>tBodyAcc-mad()-Y</th>\n",
       "      <th>tBodyAcc-mad()-Z</th>\n",
       "      <th>tBodyAcc-max()-X</th>\n",
       "      <th>...</th>\n",
       "      <th>fBodyBodyGyroJerkMag-kurtosis()</th>\n",
       "      <th>angle(tBodyAccMean,gravity)</th>\n",
       "      <th>angle(tBodyAccJerkMean),gravityMean)</th>\n",
       "      <th>angle(tBodyGyroMean,gravityMean)</th>\n",
       "      <th>angle(tBodyGyroJerkMean,gravityMean)</th>\n",
       "      <th>angle(X,gravityMean)</th>\n",
       "      <th>angle(Y,gravityMean)</th>\n",
       "      <th>angle(Z,gravityMean)</th>\n",
       "      <th>subject</th>\n",
       "      <th>Activity</th>\n",
       "    </tr>\n",
       "  </thead>\n",
       "  <tbody>\n",
       "    <tr>\n",
       "      <th>0</th>\n",
       "      <td>0.288508</td>\n",
       "      <td>-0.009196</td>\n",
       "      <td>-0.103362</td>\n",
       "      <td>-0.988986</td>\n",
       "      <td>-0.962797</td>\n",
       "      <td>-0.967422</td>\n",
       "      <td>-0.989000</td>\n",
       "      <td>-0.962596</td>\n",
       "      <td>-0.965650</td>\n",
       "      <td>-0.929747</td>\n",
       "      <td>...</td>\n",
       "      <td>-0.816696</td>\n",
       "      <td>-0.042494</td>\n",
       "      <td>-0.044218</td>\n",
       "      <td>0.307873</td>\n",
       "      <td>0.072790</td>\n",
       "      <td>-0.601120</td>\n",
       "      <td>0.331298</td>\n",
       "      <td>0.165163</td>\n",
       "      <td>21</td>\n",
       "      <td>STANDING</td>\n",
       "    </tr>\n",
       "    <tr>\n",
       "      <th>1</th>\n",
       "      <td>0.265757</td>\n",
       "      <td>-0.016576</td>\n",
       "      <td>-0.098163</td>\n",
       "      <td>-0.989551</td>\n",
       "      <td>-0.994636</td>\n",
       "      <td>-0.987435</td>\n",
       "      <td>-0.990189</td>\n",
       "      <td>-0.993870</td>\n",
       "      <td>-0.987558</td>\n",
       "      <td>-0.937337</td>\n",
       "      <td>...</td>\n",
       "      <td>-0.693515</td>\n",
       "      <td>-0.062899</td>\n",
       "      <td>0.388459</td>\n",
       "      <td>-0.765014</td>\n",
       "      <td>0.771524</td>\n",
       "      <td>0.345205</td>\n",
       "      <td>-0.769186</td>\n",
       "      <td>-0.147944</td>\n",
       "      <td>15</td>\n",
       "      <td>LAYING</td>\n",
       "    </tr>\n",
       "    <tr>\n",
       "      <th>2</th>\n",
       "      <td>0.278709</td>\n",
       "      <td>-0.014511</td>\n",
       "      <td>-0.108717</td>\n",
       "      <td>-0.997720</td>\n",
       "      <td>-0.981088</td>\n",
       "      <td>-0.994008</td>\n",
       "      <td>-0.997934</td>\n",
       "      <td>-0.982187</td>\n",
       "      <td>-0.995017</td>\n",
       "      <td>-0.942584</td>\n",
       "      <td>...</td>\n",
       "      <td>-0.829311</td>\n",
       "      <td>0.000265</td>\n",
       "      <td>-0.525022</td>\n",
       "      <td>-0.891875</td>\n",
       "      <td>0.021528</td>\n",
       "      <td>-0.833564</td>\n",
       "      <td>0.202434</td>\n",
       "      <td>-0.032755</td>\n",
       "      <td>11</td>\n",
       "      <td>STANDING</td>\n",
       "    </tr>\n",
       "    <tr>\n",
       "      <th>3</th>\n",
       "      <td>0.289795</td>\n",
       "      <td>-0.035536</td>\n",
       "      <td>-0.150354</td>\n",
       "      <td>-0.231727</td>\n",
       "      <td>-0.006412</td>\n",
       "      <td>-0.338117</td>\n",
       "      <td>-0.273557</td>\n",
       "      <td>0.014245</td>\n",
       "      <td>-0.347916</td>\n",
       "      <td>0.008288</td>\n",
       "      <td>...</td>\n",
       "      <td>-0.408956</td>\n",
       "      <td>-0.255125</td>\n",
       "      <td>0.612804</td>\n",
       "      <td>0.747381</td>\n",
       "      <td>-0.072944</td>\n",
       "      <td>-0.695819</td>\n",
       "      <td>0.287154</td>\n",
       "      <td>0.111388</td>\n",
       "      <td>17</td>\n",
       "      <td>WALKING</td>\n",
       "    </tr>\n",
       "    <tr>\n",
       "      <th>4</th>\n",
       "      <td>0.394807</td>\n",
       "      <td>0.034098</td>\n",
       "      <td>0.091229</td>\n",
       "      <td>0.088489</td>\n",
       "      <td>-0.106636</td>\n",
       "      <td>-0.388502</td>\n",
       "      <td>-0.010469</td>\n",
       "      <td>-0.109680</td>\n",
       "      <td>-0.346372</td>\n",
       "      <td>0.584131</td>\n",
       "      <td>...</td>\n",
       "      <td>-0.563437</td>\n",
       "      <td>-0.044344</td>\n",
       "      <td>-0.845268</td>\n",
       "      <td>-0.974650</td>\n",
       "      <td>-0.887846</td>\n",
       "      <td>-0.705029</td>\n",
       "      <td>0.264952</td>\n",
       "      <td>0.137758</td>\n",
       "      <td>17</td>\n",
       "      <td>WALKING_DOWNSTAIRS</td>\n",
       "    </tr>\n",
       "  </tbody>\n",
       "</table>\n",
       "<p>5 rows × 563 columns</p>\n",
       "</div>"
      ],
      "text/plain": [
       "   tBodyAcc-mean()-X  tBodyAcc-mean()-Y  tBodyAcc-mean()-Z  tBodyAcc-std()-X  \\\n",
       "0           0.288508          -0.009196          -0.103362         -0.988986   \n",
       "1           0.265757          -0.016576          -0.098163         -0.989551   \n",
       "2           0.278709          -0.014511          -0.108717         -0.997720   \n",
       "3           0.289795          -0.035536          -0.150354         -0.231727   \n",
       "4           0.394807           0.034098           0.091229          0.088489   \n",
       "\n",
       "   tBodyAcc-std()-Y  tBodyAcc-std()-Z  tBodyAcc-mad()-X  tBodyAcc-mad()-Y  \\\n",
       "0         -0.962797         -0.967422         -0.989000         -0.962596   \n",
       "1         -0.994636         -0.987435         -0.990189         -0.993870   \n",
       "2         -0.981088         -0.994008         -0.997934         -0.982187   \n",
       "3         -0.006412         -0.338117         -0.273557          0.014245   \n",
       "4         -0.106636         -0.388502         -0.010469         -0.109680   \n",
       "\n",
       "   tBodyAcc-mad()-Z  tBodyAcc-max()-X  ...  fBodyBodyGyroJerkMag-kurtosis()  \\\n",
       "0         -0.965650         -0.929747  ...                        -0.816696   \n",
       "1         -0.987558         -0.937337  ...                        -0.693515   \n",
       "2         -0.995017         -0.942584  ...                        -0.829311   \n",
       "3         -0.347916          0.008288  ...                        -0.408956   \n",
       "4         -0.346372          0.584131  ...                        -0.563437   \n",
       "\n",
       "   angle(tBodyAccMean,gravity)  angle(tBodyAccJerkMean),gravityMean)  \\\n",
       "0                    -0.042494                             -0.044218   \n",
       "1                    -0.062899                              0.388459   \n",
       "2                     0.000265                             -0.525022   \n",
       "3                    -0.255125                              0.612804   \n",
       "4                    -0.044344                             -0.845268   \n",
       "\n",
       "   angle(tBodyGyroMean,gravityMean)  angle(tBodyGyroJerkMean,gravityMean)  \\\n",
       "0                          0.307873                              0.072790   \n",
       "1                         -0.765014                              0.771524   \n",
       "2                         -0.891875                              0.021528   \n",
       "3                          0.747381                             -0.072944   \n",
       "4                         -0.974650                             -0.887846   \n",
       "\n",
       "   angle(X,gravityMean)  angle(Y,gravityMean)  angle(Z,gravityMean)  subject  \\\n",
       "0             -0.601120              0.331298              0.165163       21   \n",
       "1              0.345205             -0.769186             -0.147944       15   \n",
       "2             -0.833564              0.202434             -0.032755       11   \n",
       "3             -0.695819              0.287154              0.111388       17   \n",
       "4             -0.705029              0.264952              0.137758       17   \n",
       "\n",
       "             Activity  \n",
       "0            STANDING  \n",
       "1              LAYING  \n",
       "2            STANDING  \n",
       "3             WALKING  \n",
       "4  WALKING_DOWNSTAIRS  \n",
       "\n",
       "[5 rows x 563 columns]"
      ]
     },
     "execution_count": 7,
     "metadata": {},
     "output_type": "execute_result"
    }
   ],
   "source": [
    "# 데이터셋 파일 불러오기\n",
    "## data 변수에 train_data.csv 파일을 불러와서 할당해 주세요.\n",
    "## train_data.csv 파일은 현재위치의 하위 data 폴더안에 있습니다. \n",
    "path = './data/train_data.csv'\n",
    "data = pd.read_csv(path)\n",
    "data.head()"
   ]
  },
  {
   "cell_type": "code",
   "execution_count": 8,
   "metadata": {
    "colab": {
     "base_uri": "https://localhost:8080/",
     "height": 206
    },
    "executionInfo": {
     "elapsed": 9,
     "status": "ok",
     "timestamp": 1676246872221,
     "user": {
      "displayName": "YB Choi",
      "userId": "15474749006288987898"
     },
     "user_tz": -540
    },
    "id": "0umL6MIeFWnd",
    "outputId": "3926c2ec-58c0-46b9-d43c-f50c0b18e6c5",
    "tags": []
   },
   "outputs": [],
   "source": [
    "# 불필요한 열 제거\n",
    "## 'subject'열 은 데이터를 수집한 사람을 구별하기 위한 데이터 입니다.\n",
    "## 'subject'열을 data 데이터프레임 변수 에서 제거해 주세요.\n",
    "data.drop('subject', axis=1, inplace=True)\n",
    "data.head()"
   ]
  },
  {
   "attachments": {},
   "cell_type": "markdown",
   "metadata": {
    "id": "8Z6Fmjg7oizl"
   },
   "source": [
    "### [미션2] 훈련 데이터셋(data) 기초정보 확인하기\n",
    "* 데이터셋의 열과 행의 수, 데이터 형태, 기초통계량, Null 값 유무 등 데이터 기초정보를 확인하세요.\n",
    "\t\n",
    "\n"
   ]
  },
  {
   "attachments": {},
   "cell_type": "markdown",
   "metadata": {},
   "source": [
    "\t- 실습순서: 데이터 행/열 개수 확인 -> 데이터 정보 확인 -> 수치형 데이터 기초통계 확인 -> 데이터 상위 5행 확인 -> 데이터 하위 3행 확인 -> 데이터 컬럼명 확인"
   ]
  },
  {
   "cell_type": "code",
   "execution_count": 9,
   "metadata": {
    "colab": {
     "base_uri": "https://localhost:8080/"
    },
    "executionInfo": {
     "elapsed": 443,
     "status": "ok",
     "timestamp": 1676246876578,
     "user": {
      "displayName": "YB Choi",
      "userId": "15474749006288987898"
     },
     "user_tz": -540
    },
    "id": "t2GW6WTJE60s",
    "outputId": "44c16c9c-e7d3-4ba4-de55-a88ebe234ce9",
    "tags": []
   },
   "outputs": [
    {
     "data": {
      "text/plain": [
       "(5881, 562)"
      ]
     },
     "execution_count": 9,
     "metadata": {},
     "output_type": "execute_result"
    }
   ],
   "source": [
    "# 데이터 프레임 모양 확인\n",
    "## data 데이터프레임의 행,열 개수 확인해 주세요\n",
    "data.shape\n",
    "\n"
   ]
  },
  {
   "cell_type": "code",
   "execution_count": 10,
   "metadata": {
    "colab": {
     "base_uri": "https://localhost:8080/",
     "height": 317
    },
    "executionInfo": {
     "elapsed": 580,
     "status": "ok",
     "timestamp": 1676246878764,
     "user": {
      "displayName": "YB Choi",
      "userId": "15474749006288987898"
     },
     "user_tz": -540
    },
    "id": "1ePaMVD6FKLP",
    "outputId": "87421cba-9042-4394-8581-b8f801f7b6c4",
    "tags": []
   },
   "outputs": [
    {
     "data": {
      "text/html": [
       "<div>\n",
       "<style scoped>\n",
       "    .dataframe tbody tr th:only-of-type {\n",
       "        vertical-align: middle;\n",
       "    }\n",
       "\n",
       "    .dataframe tbody tr th {\n",
       "        vertical-align: top;\n",
       "    }\n",
       "\n",
       "    .dataframe thead th {\n",
       "        text-align: right;\n",
       "    }\n",
       "</style>\n",
       "<table border=\"1\" class=\"dataframe\">\n",
       "  <thead>\n",
       "    <tr style=\"text-align: right;\">\n",
       "      <th></th>\n",
       "      <th>tBodyAcc-mean()-X</th>\n",
       "      <th>tBodyAcc-mean()-Y</th>\n",
       "      <th>tBodyAcc-mean()-Z</th>\n",
       "      <th>tBodyAcc-std()-X</th>\n",
       "      <th>tBodyAcc-std()-Y</th>\n",
       "      <th>tBodyAcc-std()-Z</th>\n",
       "      <th>tBodyAcc-mad()-X</th>\n",
       "      <th>tBodyAcc-mad()-Y</th>\n",
       "      <th>tBodyAcc-mad()-Z</th>\n",
       "      <th>tBodyAcc-max()-X</th>\n",
       "      <th>...</th>\n",
       "      <th>fBodyBodyGyroJerkMag-skewness()</th>\n",
       "      <th>fBodyBodyGyroJerkMag-kurtosis()</th>\n",
       "      <th>angle(tBodyAccMean,gravity)</th>\n",
       "      <th>angle(tBodyAccJerkMean),gravityMean)</th>\n",
       "      <th>angle(tBodyGyroMean,gravityMean)</th>\n",
       "      <th>angle(tBodyGyroJerkMean,gravityMean)</th>\n",
       "      <th>angle(X,gravityMean)</th>\n",
       "      <th>angle(Y,gravityMean)</th>\n",
       "      <th>angle(Z,gravityMean)</th>\n",
       "      <th>Activity</th>\n",
       "    </tr>\n",
       "  </thead>\n",
       "  <tbody>\n",
       "    <tr>\n",
       "      <th>0</th>\n",
       "      <td>0.288508</td>\n",
       "      <td>-0.009196</td>\n",
       "      <td>-0.103362</td>\n",
       "      <td>-0.988986</td>\n",
       "      <td>-0.962797</td>\n",
       "      <td>-0.967422</td>\n",
       "      <td>-0.989000</td>\n",
       "      <td>-0.962596</td>\n",
       "      <td>-0.965650</td>\n",
       "      <td>-0.929747</td>\n",
       "      <td>...</td>\n",
       "      <td>-0.487737</td>\n",
       "      <td>-0.816696</td>\n",
       "      <td>-0.042494</td>\n",
       "      <td>-0.044218</td>\n",
       "      <td>0.307873</td>\n",
       "      <td>0.072790</td>\n",
       "      <td>-0.601120</td>\n",
       "      <td>0.331298</td>\n",
       "      <td>0.165163</td>\n",
       "      <td>STANDING</td>\n",
       "    </tr>\n",
       "    <tr>\n",
       "      <th>1</th>\n",
       "      <td>0.265757</td>\n",
       "      <td>-0.016576</td>\n",
       "      <td>-0.098163</td>\n",
       "      <td>-0.989551</td>\n",
       "      <td>-0.994636</td>\n",
       "      <td>-0.987435</td>\n",
       "      <td>-0.990189</td>\n",
       "      <td>-0.993870</td>\n",
       "      <td>-0.987558</td>\n",
       "      <td>-0.937337</td>\n",
       "      <td>...</td>\n",
       "      <td>-0.237820</td>\n",
       "      <td>-0.693515</td>\n",
       "      <td>-0.062899</td>\n",
       "      <td>0.388459</td>\n",
       "      <td>-0.765014</td>\n",
       "      <td>0.771524</td>\n",
       "      <td>0.345205</td>\n",
       "      <td>-0.769186</td>\n",
       "      <td>-0.147944</td>\n",
       "      <td>LAYING</td>\n",
       "    </tr>\n",
       "    <tr>\n",
       "      <th>2</th>\n",
       "      <td>0.278709</td>\n",
       "      <td>-0.014511</td>\n",
       "      <td>-0.108717</td>\n",
       "      <td>-0.997720</td>\n",
       "      <td>-0.981088</td>\n",
       "      <td>-0.994008</td>\n",
       "      <td>-0.997934</td>\n",
       "      <td>-0.982187</td>\n",
       "      <td>-0.995017</td>\n",
       "      <td>-0.942584</td>\n",
       "      <td>...</td>\n",
       "      <td>-0.535287</td>\n",
       "      <td>-0.829311</td>\n",
       "      <td>0.000265</td>\n",
       "      <td>-0.525022</td>\n",
       "      <td>-0.891875</td>\n",
       "      <td>0.021528</td>\n",
       "      <td>-0.833564</td>\n",
       "      <td>0.202434</td>\n",
       "      <td>-0.032755</td>\n",
       "      <td>STANDING</td>\n",
       "    </tr>\n",
       "    <tr>\n",
       "      <th>3</th>\n",
       "      <td>0.289795</td>\n",
       "      <td>-0.035536</td>\n",
       "      <td>-0.150354</td>\n",
       "      <td>-0.231727</td>\n",
       "      <td>-0.006412</td>\n",
       "      <td>-0.338117</td>\n",
       "      <td>-0.273557</td>\n",
       "      <td>0.014245</td>\n",
       "      <td>-0.347916</td>\n",
       "      <td>0.008288</td>\n",
       "      <td>...</td>\n",
       "      <td>-0.004012</td>\n",
       "      <td>-0.408956</td>\n",
       "      <td>-0.255125</td>\n",
       "      <td>0.612804</td>\n",
       "      <td>0.747381</td>\n",
       "      <td>-0.072944</td>\n",
       "      <td>-0.695819</td>\n",
       "      <td>0.287154</td>\n",
       "      <td>0.111388</td>\n",
       "      <td>WALKING</td>\n",
       "    </tr>\n",
       "    <tr>\n",
       "      <th>4</th>\n",
       "      <td>0.394807</td>\n",
       "      <td>0.034098</td>\n",
       "      <td>0.091229</td>\n",
       "      <td>0.088489</td>\n",
       "      <td>-0.106636</td>\n",
       "      <td>-0.388502</td>\n",
       "      <td>-0.010469</td>\n",
       "      <td>-0.109680</td>\n",
       "      <td>-0.346372</td>\n",
       "      <td>0.584131</td>\n",
       "      <td>...</td>\n",
       "      <td>-0.157832</td>\n",
       "      <td>-0.563437</td>\n",
       "      <td>-0.044344</td>\n",
       "      <td>-0.845268</td>\n",
       "      <td>-0.974650</td>\n",
       "      <td>-0.887846</td>\n",
       "      <td>-0.705029</td>\n",
       "      <td>0.264952</td>\n",
       "      <td>0.137758</td>\n",
       "      <td>WALKING_DOWNSTAIRS</td>\n",
       "    </tr>\n",
       "  </tbody>\n",
       "</table>\n",
       "<p>5 rows × 562 columns</p>\n",
       "</div>"
      ],
      "text/plain": [
       "   tBodyAcc-mean()-X  tBodyAcc-mean()-Y  tBodyAcc-mean()-Z  tBodyAcc-std()-X  \\\n",
       "0           0.288508          -0.009196          -0.103362         -0.988986   \n",
       "1           0.265757          -0.016576          -0.098163         -0.989551   \n",
       "2           0.278709          -0.014511          -0.108717         -0.997720   \n",
       "3           0.289795          -0.035536          -0.150354         -0.231727   \n",
       "4           0.394807           0.034098           0.091229          0.088489   \n",
       "\n",
       "   tBodyAcc-std()-Y  tBodyAcc-std()-Z  tBodyAcc-mad()-X  tBodyAcc-mad()-Y  \\\n",
       "0         -0.962797         -0.967422         -0.989000         -0.962596   \n",
       "1         -0.994636         -0.987435         -0.990189         -0.993870   \n",
       "2         -0.981088         -0.994008         -0.997934         -0.982187   \n",
       "3         -0.006412         -0.338117         -0.273557          0.014245   \n",
       "4         -0.106636         -0.388502         -0.010469         -0.109680   \n",
       "\n",
       "   tBodyAcc-mad()-Z  tBodyAcc-max()-X  ...  fBodyBodyGyroJerkMag-skewness()  \\\n",
       "0         -0.965650         -0.929747  ...                        -0.487737   \n",
       "1         -0.987558         -0.937337  ...                        -0.237820   \n",
       "2         -0.995017         -0.942584  ...                        -0.535287   \n",
       "3         -0.347916          0.008288  ...                        -0.004012   \n",
       "4         -0.346372          0.584131  ...                        -0.157832   \n",
       "\n",
       "   fBodyBodyGyroJerkMag-kurtosis()  angle(tBodyAccMean,gravity)  \\\n",
       "0                        -0.816696                    -0.042494   \n",
       "1                        -0.693515                    -0.062899   \n",
       "2                        -0.829311                     0.000265   \n",
       "3                        -0.408956                    -0.255125   \n",
       "4                        -0.563437                    -0.044344   \n",
       "\n",
       "   angle(tBodyAccJerkMean),gravityMean)  angle(tBodyGyroMean,gravityMean)  \\\n",
       "0                             -0.044218                          0.307873   \n",
       "1                              0.388459                         -0.765014   \n",
       "2                             -0.525022                         -0.891875   \n",
       "3                              0.612804                          0.747381   \n",
       "4                             -0.845268                         -0.974650   \n",
       "\n",
       "   angle(tBodyGyroJerkMean,gravityMean)  angle(X,gravityMean)  \\\n",
       "0                              0.072790             -0.601120   \n",
       "1                              0.771524              0.345205   \n",
       "2                              0.021528             -0.833564   \n",
       "3                             -0.072944             -0.695819   \n",
       "4                             -0.887846             -0.705029   \n",
       "\n",
       "   angle(Y,gravityMean)  angle(Z,gravityMean)            Activity  \n",
       "0              0.331298              0.165163            STANDING  \n",
       "1             -0.769186             -0.147944              LAYING  \n",
       "2              0.202434             -0.032755            STANDING  \n",
       "3              0.287154              0.111388             WALKING  \n",
       "4              0.264952              0.137758  WALKING_DOWNSTAIRS  \n",
       "\n",
       "[5 rows x 562 columns]"
      ]
     },
     "execution_count": 10,
     "metadata": {},
     "output_type": "execute_result"
    }
   ],
   "source": [
    "# 데이터 프레임의 상위 행 확인\n",
    "## data 데이터프레임의 상위 5개 행을 확인해 주세요.\n",
    "data.head(5)\n"
   ]
  },
  {
   "cell_type": "code",
   "execution_count": 11,
   "metadata": {
    "colab": {
     "base_uri": "https://localhost:8080/",
     "height": 473
    },
    "executionInfo": {
     "elapsed": 328,
     "status": "ok",
     "timestamp": 1676246883670,
     "user": {
      "displayName": "YB Choi",
      "userId": "15474749006288987898"
     },
     "user_tz": -540
    },
    "id": "8zthYQSVGIAl",
    "outputId": "b85e3c6b-4354-4dda-b586-75bb2b556d50",
    "tags": []
   },
   "outputs": [
    {
     "data": {
      "text/html": [
       "<div>\n",
       "<style scoped>\n",
       "    .dataframe tbody tr th:only-of-type {\n",
       "        vertical-align: middle;\n",
       "    }\n",
       "\n",
       "    .dataframe tbody tr th {\n",
       "        vertical-align: top;\n",
       "    }\n",
       "\n",
       "    .dataframe thead th {\n",
       "        text-align: right;\n",
       "    }\n",
       "</style>\n",
       "<table border=\"1\" class=\"dataframe\">\n",
       "  <thead>\n",
       "    <tr style=\"text-align: right;\">\n",
       "      <th></th>\n",
       "      <th>tBodyAcc-mean()-X</th>\n",
       "      <th>tBodyAcc-mean()-Y</th>\n",
       "      <th>tBodyAcc-mean()-Z</th>\n",
       "      <th>tBodyAcc-std()-X</th>\n",
       "      <th>tBodyAcc-std()-Y</th>\n",
       "      <th>tBodyAcc-std()-Z</th>\n",
       "      <th>tBodyAcc-mad()-X</th>\n",
       "      <th>tBodyAcc-mad()-Y</th>\n",
       "      <th>tBodyAcc-mad()-Z</th>\n",
       "      <th>tBodyAcc-max()-X</th>\n",
       "      <th>...</th>\n",
       "      <th>fBodyBodyGyroJerkMag-skewness()</th>\n",
       "      <th>fBodyBodyGyroJerkMag-kurtosis()</th>\n",
       "      <th>angle(tBodyAccMean,gravity)</th>\n",
       "      <th>angle(tBodyAccJerkMean),gravityMean)</th>\n",
       "      <th>angle(tBodyGyroMean,gravityMean)</th>\n",
       "      <th>angle(tBodyGyroJerkMean,gravityMean)</th>\n",
       "      <th>angle(X,gravityMean)</th>\n",
       "      <th>angle(Y,gravityMean)</th>\n",
       "      <th>angle(Z,gravityMean)</th>\n",
       "      <th>Activity</th>\n",
       "    </tr>\n",
       "  </thead>\n",
       "  <tbody>\n",
       "    <tr>\n",
       "      <th>5878</th>\n",
       "      <td>0.267981</td>\n",
       "      <td>-0.018348</td>\n",
       "      <td>-0.107440</td>\n",
       "      <td>-0.991303</td>\n",
       "      <td>-0.989881</td>\n",
       "      <td>-0.990313</td>\n",
       "      <td>-0.992386</td>\n",
       "      <td>-0.988852</td>\n",
       "      <td>-0.991237</td>\n",
       "      <td>-0.936099</td>\n",
       "      <td>...</td>\n",
       "      <td>-0.597610</td>\n",
       "      <td>-0.886851</td>\n",
       "      <td>0.060173</td>\n",
       "      <td>0.228739</td>\n",
       "      <td>0.684400</td>\n",
       "      <td>-0.216665</td>\n",
       "      <td>0.620363</td>\n",
       "      <td>-0.437247</td>\n",
       "      <td>-0.571840</td>\n",
       "      <td>LAYING</td>\n",
       "    </tr>\n",
       "    <tr>\n",
       "      <th>5879</th>\n",
       "      <td>0.212787</td>\n",
       "      <td>-0.048130</td>\n",
       "      <td>-0.121001</td>\n",
       "      <td>-0.041373</td>\n",
       "      <td>0.052449</td>\n",
       "      <td>-0.585361</td>\n",
       "      <td>-0.100714</td>\n",
       "      <td>0.023353</td>\n",
       "      <td>-0.554707</td>\n",
       "      <td>0.219814</td>\n",
       "      <td>...</td>\n",
       "      <td>0.196921</td>\n",
       "      <td>-0.053556</td>\n",
       "      <td>0.260880</td>\n",
       "      <td>0.551742</td>\n",
       "      <td>-0.943773</td>\n",
       "      <td>-0.862899</td>\n",
       "      <td>-0.718009</td>\n",
       "      <td>0.292856</td>\n",
       "      <td>0.024920</td>\n",
       "      <td>WALKING_UPSTAIRS</td>\n",
       "    </tr>\n",
       "    <tr>\n",
       "      <th>5880</th>\n",
       "      <td>0.283815</td>\n",
       "      <td>-0.040658</td>\n",
       "      <td>-0.138018</td>\n",
       "      <td>-0.992662</td>\n",
       "      <td>-0.747190</td>\n",
       "      <td>-0.920248</td>\n",
       "      <td>-0.993410</td>\n",
       "      <td>-0.768055</td>\n",
       "      <td>-0.924587</td>\n",
       "      <td>-0.935871</td>\n",
       "      <td>...</td>\n",
       "      <td>-0.379740</td>\n",
       "      <td>-0.696584</td>\n",
       "      <td>0.107690</td>\n",
       "      <td>0.122242</td>\n",
       "      <td>-0.077226</td>\n",
       "      <td>-0.078091</td>\n",
       "      <td>-0.740244</td>\n",
       "      <td>0.008346</td>\n",
       "      <td>-0.146143</td>\n",
       "      <td>SITTING</td>\n",
       "    </tr>\n",
       "  </tbody>\n",
       "</table>\n",
       "<p>3 rows × 562 columns</p>\n",
       "</div>"
      ],
      "text/plain": [
       "      tBodyAcc-mean()-X  tBodyAcc-mean()-Y  tBodyAcc-mean()-Z  \\\n",
       "5878           0.267981          -0.018348          -0.107440   \n",
       "5879           0.212787          -0.048130          -0.121001   \n",
       "5880           0.283815          -0.040658          -0.138018   \n",
       "\n",
       "      tBodyAcc-std()-X  tBodyAcc-std()-Y  tBodyAcc-std()-Z  tBodyAcc-mad()-X  \\\n",
       "5878         -0.991303         -0.989881         -0.990313         -0.992386   \n",
       "5879         -0.041373          0.052449         -0.585361         -0.100714   \n",
       "5880         -0.992662         -0.747190         -0.920248         -0.993410   \n",
       "\n",
       "      tBodyAcc-mad()-Y  tBodyAcc-mad()-Z  tBodyAcc-max()-X  ...  \\\n",
       "5878         -0.988852         -0.991237         -0.936099  ...   \n",
       "5879          0.023353         -0.554707          0.219814  ...   \n",
       "5880         -0.768055         -0.924587         -0.935871  ...   \n",
       "\n",
       "      fBodyBodyGyroJerkMag-skewness()  fBodyBodyGyroJerkMag-kurtosis()  \\\n",
       "5878                        -0.597610                        -0.886851   \n",
       "5879                         0.196921                        -0.053556   \n",
       "5880                        -0.379740                        -0.696584   \n",
       "\n",
       "      angle(tBodyAccMean,gravity)  angle(tBodyAccJerkMean),gravityMean)  \\\n",
       "5878                     0.060173                              0.228739   \n",
       "5879                     0.260880                              0.551742   \n",
       "5880                     0.107690                              0.122242   \n",
       "\n",
       "      angle(tBodyGyroMean,gravityMean)  angle(tBodyGyroJerkMean,gravityMean)  \\\n",
       "5878                          0.684400                             -0.216665   \n",
       "5879                         -0.943773                             -0.862899   \n",
       "5880                         -0.077226                             -0.078091   \n",
       "\n",
       "      angle(X,gravityMean)  angle(Y,gravityMean)  angle(Z,gravityMean)  \\\n",
       "5878              0.620363             -0.437247             -0.571840   \n",
       "5879             -0.718009              0.292856              0.024920   \n",
       "5880             -0.740244              0.008346             -0.146143   \n",
       "\n",
       "              Activity  \n",
       "5878            LAYING  \n",
       "5879  WALKING_UPSTAIRS  \n",
       "5880           SITTING  \n",
       "\n",
       "[3 rows x 562 columns]"
      ]
     },
     "execution_count": 11,
     "metadata": {},
     "output_type": "execute_result"
    }
   ],
   "source": [
    "# 데이터 프레임의 하위 행 확인\n",
    "## data 데이터 프레임의 하위 3개 행을 확인해 주세요.\n",
    "data.tail(3)\n"
   ]
  },
  {
   "cell_type": "code",
   "execution_count": 12,
   "metadata": {
    "colab": {
     "base_uri": "https://localhost:8080/"
    },
    "executionInfo": {
     "elapsed": 4,
     "status": "ok",
     "timestamp": 1676246892132,
     "user": {
      "displayName": "YB Choi",
      "userId": "15474749006288987898"
     },
     "user_tz": -540
    },
    "id": "6AE1REEhFQT3",
    "outputId": "1dae992e-1821-499c-aea9-bbb520851d84",
    "tags": []
   },
   "outputs": [
    {
     "data": {
      "text/plain": [
       "Index(['tBodyAcc-mean()-X', 'tBodyAcc-mean()-Y', 'tBodyAcc-mean()-Z',\n",
       "       'tBodyAcc-std()-X', 'tBodyAcc-std()-Y', 'tBodyAcc-std()-Z',\n",
       "       'tBodyAcc-mad()-X', 'tBodyAcc-mad()-Y', 'tBodyAcc-mad()-Z',\n",
       "       'tBodyAcc-max()-X',\n",
       "       ...\n",
       "       'fBodyBodyGyroJerkMag-skewness()', 'fBodyBodyGyroJerkMag-kurtosis()',\n",
       "       'angle(tBodyAccMean,gravity)', 'angle(tBodyAccJerkMean),gravityMean)',\n",
       "       'angle(tBodyGyroMean,gravityMean)',\n",
       "       'angle(tBodyGyroJerkMean,gravityMean)', 'angle(X,gravityMean)',\n",
       "       'angle(Y,gravityMean)', 'angle(Z,gravityMean)', 'Activity'],\n",
       "      dtype='object', length=562)"
      ]
     },
     "execution_count": 12,
     "metadata": {},
     "output_type": "execute_result"
    }
   ],
   "source": [
    "# 데이터 프레임의 컬럼명 확인\n",
    "# data 데이터 프레임의 모든 feature명(컬럼명)을 확인해 주세요.\n",
    "data.columns\n"
   ]
  },
  {
   "cell_type": "code",
   "execution_count": 13,
   "metadata": {},
   "outputs": [
    {
     "name": "stdout",
     "output_type": "stream",
     "text": [
      "<class 'pandas.core.frame.DataFrame'>\n",
      "RangeIndex: 5881 entries, 0 to 5880\n",
      "Columns: 562 entries, tBodyAcc-mean()-X to Activity\n",
      "dtypes: float64(561), object(1)\n",
      "memory usage: 25.2+ MB\n"
     ]
    }
   ],
   "source": [
    "# 데이터 기초 정보 확인1\n",
    "## data 데이터프레임의 기초 정보(컬럼명, 데이터 개수, 데이터 타입) 확인해 주세요.\n",
    "data.info()\n",
    "\n",
    "\n"
   ]
  },
  {
   "cell_type": "code",
   "execution_count": 14,
   "metadata": {},
   "outputs": [
    {
     "name": "stdout",
     "output_type": "stream",
     "text": [
      "<class 'pandas.core.frame.DataFrame'>\n",
      "RangeIndex: 5881 entries, 0 to 5880\n",
      "Data columns (total 562 columns):\n",
      " #    Column                                Non-Null Count  Dtype  \n",
      "---   ------                                --------------  -----  \n",
      " 0    tBodyAcc-mean()-X                     5881 non-null   float64\n",
      " 1    tBodyAcc-mean()-Y                     5881 non-null   float64\n",
      " 2    tBodyAcc-mean()-Z                     5881 non-null   float64\n",
      " 3    tBodyAcc-std()-X                      5881 non-null   float64\n",
      " 4    tBodyAcc-std()-Y                      5881 non-null   float64\n",
      " 5    tBodyAcc-std()-Z                      5881 non-null   float64\n",
      " 6    tBodyAcc-mad()-X                      5881 non-null   float64\n",
      " 7    tBodyAcc-mad()-Y                      5881 non-null   float64\n",
      " 8    tBodyAcc-mad()-Z                      5881 non-null   float64\n",
      " 9    tBodyAcc-max()-X                      5881 non-null   float64\n",
      " 10   tBodyAcc-max()-Y                      5881 non-null   float64\n",
      " 11   tBodyAcc-max()-Z                      5881 non-null   float64\n",
      " 12   tBodyAcc-min()-X                      5881 non-null   float64\n",
      " 13   tBodyAcc-min()-Y                      5881 non-null   float64\n",
      " 14   tBodyAcc-min()-Z                      5881 non-null   float64\n",
      " 15   tBodyAcc-sma()                        5881 non-null   float64\n",
      " 16   tBodyAcc-energy()-X                   5881 non-null   float64\n",
      " 17   tBodyAcc-energy()-Y                   5881 non-null   float64\n",
      " 18   tBodyAcc-energy()-Z                   5881 non-null   float64\n",
      " 19   tBodyAcc-iqr()-X                      5881 non-null   float64\n",
      " 20   tBodyAcc-iqr()-Y                      5881 non-null   float64\n",
      " 21   tBodyAcc-iqr()-Z                      5881 non-null   float64\n",
      " 22   tBodyAcc-entropy()-X                  5881 non-null   float64\n",
      " 23   tBodyAcc-entropy()-Y                  5881 non-null   float64\n",
      " 24   tBodyAcc-entropy()-Z                  5881 non-null   float64\n",
      " 25   tBodyAcc-arCoeff()-X,1                5881 non-null   float64\n",
      " 26   tBodyAcc-arCoeff()-X,2                5881 non-null   float64\n",
      " 27   tBodyAcc-arCoeff()-X,3                5881 non-null   float64\n",
      " 28   tBodyAcc-arCoeff()-X,4                5881 non-null   float64\n",
      " 29   tBodyAcc-arCoeff()-Y,1                5881 non-null   float64\n",
      " 30   tBodyAcc-arCoeff()-Y,2                5881 non-null   float64\n",
      " 31   tBodyAcc-arCoeff()-Y,3                5881 non-null   float64\n",
      " 32   tBodyAcc-arCoeff()-Y,4                5881 non-null   float64\n",
      " 33   tBodyAcc-arCoeff()-Z,1                5881 non-null   float64\n",
      " 34   tBodyAcc-arCoeff()-Z,2                5881 non-null   float64\n",
      " 35   tBodyAcc-arCoeff()-Z,3                5881 non-null   float64\n",
      " 36   tBodyAcc-arCoeff()-Z,4                5881 non-null   float64\n",
      " 37   tBodyAcc-correlation()-X,Y            5881 non-null   float64\n",
      " 38   tBodyAcc-correlation()-X,Z            5881 non-null   float64\n",
      " 39   tBodyAcc-correlation()-Y,Z            5881 non-null   float64\n",
      " 40   tGravityAcc-mean()-X                  5881 non-null   float64\n",
      " 41   tGravityAcc-mean()-Y                  5881 non-null   float64\n",
      " 42   tGravityAcc-mean()-Z                  5881 non-null   float64\n",
      " 43   tGravityAcc-std()-X                   5881 non-null   float64\n",
      " 44   tGravityAcc-std()-Y                   5881 non-null   float64\n",
      " 45   tGravityAcc-std()-Z                   5881 non-null   float64\n",
      " 46   tGravityAcc-mad()-X                   5881 non-null   float64\n",
      " 47   tGravityAcc-mad()-Y                   5881 non-null   float64\n",
      " 48   tGravityAcc-mad()-Z                   5881 non-null   float64\n",
      " 49   tGravityAcc-max()-X                   5881 non-null   float64\n",
      " 50   tGravityAcc-max()-Y                   5881 non-null   float64\n",
      " 51   tGravityAcc-max()-Z                   5881 non-null   float64\n",
      " 52   tGravityAcc-min()-X                   5881 non-null   float64\n",
      " 53   tGravityAcc-min()-Y                   5881 non-null   float64\n",
      " 54   tGravityAcc-min()-Z                   5881 non-null   float64\n",
      " 55   tGravityAcc-sma()                     5881 non-null   float64\n",
      " 56   tGravityAcc-energy()-X                5881 non-null   float64\n",
      " 57   tGravityAcc-energy()-Y                5881 non-null   float64\n",
      " 58   tGravityAcc-energy()-Z                5881 non-null   float64\n",
      " 59   tGravityAcc-iqr()-X                   5881 non-null   float64\n",
      " 60   tGravityAcc-iqr()-Y                   5881 non-null   float64\n",
      " 61   tGravityAcc-iqr()-Z                   5881 non-null   float64\n",
      " 62   tGravityAcc-entropy()-X               5881 non-null   float64\n",
      " 63   tGravityAcc-entropy()-Y               5881 non-null   float64\n",
      " 64   tGravityAcc-entropy()-Z               5881 non-null   float64\n",
      " 65   tGravityAcc-arCoeff()-X,1             5881 non-null   float64\n",
      " 66   tGravityAcc-arCoeff()-X,2             5881 non-null   float64\n",
      " 67   tGravityAcc-arCoeff()-X,3             5881 non-null   float64\n",
      " 68   tGravityAcc-arCoeff()-X,4             5881 non-null   float64\n",
      " 69   tGravityAcc-arCoeff()-Y,1             5881 non-null   float64\n",
      " 70   tGravityAcc-arCoeff()-Y,2             5881 non-null   float64\n",
      " 71   tGravityAcc-arCoeff()-Y,3             5881 non-null   float64\n",
      " 72   tGravityAcc-arCoeff()-Y,4             5881 non-null   float64\n",
      " 73   tGravityAcc-arCoeff()-Z,1             5881 non-null   float64\n",
      " 74   tGravityAcc-arCoeff()-Z,2             5881 non-null   float64\n",
      " 75   tGravityAcc-arCoeff()-Z,3             5881 non-null   float64\n",
      " 76   tGravityAcc-arCoeff()-Z,4             5881 non-null   float64\n",
      " 77   tGravityAcc-correlation()-X,Y         5881 non-null   float64\n",
      " 78   tGravityAcc-correlation()-X,Z         5881 non-null   float64\n",
      " 79   tGravityAcc-correlation()-Y,Z         5881 non-null   float64\n",
      " 80   tBodyAccJerk-mean()-X                 5881 non-null   float64\n",
      " 81   tBodyAccJerk-mean()-Y                 5881 non-null   float64\n",
      " 82   tBodyAccJerk-mean()-Z                 5881 non-null   float64\n",
      " 83   tBodyAccJerk-std()-X                  5881 non-null   float64\n",
      " 84   tBodyAccJerk-std()-Y                  5881 non-null   float64\n",
      " 85   tBodyAccJerk-std()-Z                  5881 non-null   float64\n",
      " 86   tBodyAccJerk-mad()-X                  5881 non-null   float64\n",
      " 87   tBodyAccJerk-mad()-Y                  5881 non-null   float64\n",
      " 88   tBodyAccJerk-mad()-Z                  5881 non-null   float64\n",
      " 89   tBodyAccJerk-max()-X                  5881 non-null   float64\n",
      " 90   tBodyAccJerk-max()-Y                  5881 non-null   float64\n",
      " 91   tBodyAccJerk-max()-Z                  5881 non-null   float64\n",
      " 92   tBodyAccJerk-min()-X                  5881 non-null   float64\n",
      " 93   tBodyAccJerk-min()-Y                  5881 non-null   float64\n",
      " 94   tBodyAccJerk-min()-Z                  5881 non-null   float64\n",
      " 95   tBodyAccJerk-sma()                    5881 non-null   float64\n",
      " 96   tBodyAccJerk-energy()-X               5881 non-null   float64\n",
      " 97   tBodyAccJerk-energy()-Y               5881 non-null   float64\n",
      " 98   tBodyAccJerk-energy()-Z               5881 non-null   float64\n",
      " 99   tBodyAccJerk-iqr()-X                  5881 non-null   float64\n",
      " 100  tBodyAccJerk-iqr()-Y                  5881 non-null   float64\n",
      " 101  tBodyAccJerk-iqr()-Z                  5881 non-null   float64\n",
      " 102  tBodyAccJerk-entropy()-X              5881 non-null   float64\n",
      " 103  tBodyAccJerk-entropy()-Y              5881 non-null   float64\n",
      " 104  tBodyAccJerk-entropy()-Z              5881 non-null   float64\n",
      " 105  tBodyAccJerk-arCoeff()-X,1            5881 non-null   float64\n",
      " 106  tBodyAccJerk-arCoeff()-X,2            5881 non-null   float64\n",
      " 107  tBodyAccJerk-arCoeff()-X,3            5881 non-null   float64\n",
      " 108  tBodyAccJerk-arCoeff()-X,4            5881 non-null   float64\n",
      " 109  tBodyAccJerk-arCoeff()-Y,1            5881 non-null   float64\n",
      " 110  tBodyAccJerk-arCoeff()-Y,2            5881 non-null   float64\n",
      " 111  tBodyAccJerk-arCoeff()-Y,3            5881 non-null   float64\n",
      " 112  tBodyAccJerk-arCoeff()-Y,4            5881 non-null   float64\n",
      " 113  tBodyAccJerk-arCoeff()-Z,1            5881 non-null   float64\n",
      " 114  tBodyAccJerk-arCoeff()-Z,2            5881 non-null   float64\n",
      " 115  tBodyAccJerk-arCoeff()-Z,3            5881 non-null   float64\n",
      " 116  tBodyAccJerk-arCoeff()-Z,4            5881 non-null   float64\n",
      " 117  tBodyAccJerk-correlation()-X,Y        5881 non-null   float64\n",
      " 118  tBodyAccJerk-correlation()-X,Z        5881 non-null   float64\n",
      " 119  tBodyAccJerk-correlation()-Y,Z        5881 non-null   float64\n",
      " 120  tBodyGyro-mean()-X                    5881 non-null   float64\n",
      " 121  tBodyGyro-mean()-Y                    5881 non-null   float64\n",
      " 122  tBodyGyro-mean()-Z                    5881 non-null   float64\n",
      " 123  tBodyGyro-std()-X                     5881 non-null   float64\n",
      " 124  tBodyGyro-std()-Y                     5881 non-null   float64\n",
      " 125  tBodyGyro-std()-Z                     5881 non-null   float64\n",
      " 126  tBodyGyro-mad()-X                     5881 non-null   float64\n",
      " 127  tBodyGyro-mad()-Y                     5881 non-null   float64\n",
      " 128  tBodyGyro-mad()-Z                     5881 non-null   float64\n",
      " 129  tBodyGyro-max()-X                     5881 non-null   float64\n",
      " 130  tBodyGyro-max()-Y                     5881 non-null   float64\n",
      " 131  tBodyGyro-max()-Z                     5881 non-null   float64\n",
      " 132  tBodyGyro-min()-X                     5881 non-null   float64\n",
      " 133  tBodyGyro-min()-Y                     5881 non-null   float64\n",
      " 134  tBodyGyro-min()-Z                     5881 non-null   float64\n",
      " 135  tBodyGyro-sma()                       5881 non-null   float64\n",
      " 136  tBodyGyro-energy()-X                  5881 non-null   float64\n",
      " 137  tBodyGyro-energy()-Y                  5881 non-null   float64\n",
      " 138  tBodyGyro-energy()-Z                  5881 non-null   float64\n",
      " 139  tBodyGyro-iqr()-X                     5881 non-null   float64\n",
      " 140  tBodyGyro-iqr()-Y                     5881 non-null   float64\n",
      " 141  tBodyGyro-iqr()-Z                     5881 non-null   float64\n",
      " 142  tBodyGyro-entropy()-X                 5881 non-null   float64\n",
      " 143  tBodyGyro-entropy()-Y                 5881 non-null   float64\n",
      " 144  tBodyGyro-entropy()-Z                 5881 non-null   float64\n",
      " 145  tBodyGyro-arCoeff()-X,1               5881 non-null   float64\n",
      " 146  tBodyGyro-arCoeff()-X,2               5881 non-null   float64\n",
      " 147  tBodyGyro-arCoeff()-X,3               5881 non-null   float64\n",
      " 148  tBodyGyro-arCoeff()-X,4               5881 non-null   float64\n",
      " 149  tBodyGyro-arCoeff()-Y,1               5881 non-null   float64\n",
      " 150  tBodyGyro-arCoeff()-Y,2               5881 non-null   float64\n",
      " 151  tBodyGyro-arCoeff()-Y,3               5881 non-null   float64\n",
      " 152  tBodyGyro-arCoeff()-Y,4               5881 non-null   float64\n",
      " 153  tBodyGyro-arCoeff()-Z,1               5881 non-null   float64\n",
      " 154  tBodyGyro-arCoeff()-Z,2               5881 non-null   float64\n",
      " 155  tBodyGyro-arCoeff()-Z,3               5881 non-null   float64\n",
      " 156  tBodyGyro-arCoeff()-Z,4               5881 non-null   float64\n",
      " 157  tBodyGyro-correlation()-X,Y           5881 non-null   float64\n",
      " 158  tBodyGyro-correlation()-X,Z           5881 non-null   float64\n",
      " 159  tBodyGyro-correlation()-Y,Z           5881 non-null   float64\n",
      " 160  tBodyGyroJerk-mean()-X                5881 non-null   float64\n",
      " 161  tBodyGyroJerk-mean()-Y                5881 non-null   float64\n",
      " 162  tBodyGyroJerk-mean()-Z                5881 non-null   float64\n",
      " 163  tBodyGyroJerk-std()-X                 5881 non-null   float64\n",
      " 164  tBodyGyroJerk-std()-Y                 5881 non-null   float64\n",
      " 165  tBodyGyroJerk-std()-Z                 5881 non-null   float64\n",
      " 166  tBodyGyroJerk-mad()-X                 5881 non-null   float64\n",
      " 167  tBodyGyroJerk-mad()-Y                 5881 non-null   float64\n",
      " 168  tBodyGyroJerk-mad()-Z                 5881 non-null   float64\n",
      " 169  tBodyGyroJerk-max()-X                 5881 non-null   float64\n",
      " 170  tBodyGyroJerk-max()-Y                 5881 non-null   float64\n",
      " 171  tBodyGyroJerk-max()-Z                 5881 non-null   float64\n",
      " 172  tBodyGyroJerk-min()-X                 5881 non-null   float64\n",
      " 173  tBodyGyroJerk-min()-Y                 5881 non-null   float64\n",
      " 174  tBodyGyroJerk-min()-Z                 5881 non-null   float64\n",
      " 175  tBodyGyroJerk-sma()                   5881 non-null   float64\n",
      " 176  tBodyGyroJerk-energy()-X              5881 non-null   float64\n",
      " 177  tBodyGyroJerk-energy()-Y              5881 non-null   float64\n",
      " 178  tBodyGyroJerk-energy()-Z              5881 non-null   float64\n",
      " 179  tBodyGyroJerk-iqr()-X                 5881 non-null   float64\n",
      " 180  tBodyGyroJerk-iqr()-Y                 5881 non-null   float64\n",
      " 181  tBodyGyroJerk-iqr()-Z                 5881 non-null   float64\n",
      " 182  tBodyGyroJerk-entropy()-X             5881 non-null   float64\n",
      " 183  tBodyGyroJerk-entropy()-Y             5881 non-null   float64\n",
      " 184  tBodyGyroJerk-entropy()-Z             5881 non-null   float64\n",
      " 185  tBodyGyroJerk-arCoeff()-X,1           5881 non-null   float64\n",
      " 186  tBodyGyroJerk-arCoeff()-X,2           5881 non-null   float64\n",
      " 187  tBodyGyroJerk-arCoeff()-X,3           5881 non-null   float64\n",
      " 188  tBodyGyroJerk-arCoeff()-X,4           5881 non-null   float64\n",
      " 189  tBodyGyroJerk-arCoeff()-Y,1           5881 non-null   float64\n",
      " 190  tBodyGyroJerk-arCoeff()-Y,2           5881 non-null   float64\n",
      " 191  tBodyGyroJerk-arCoeff()-Y,3           5881 non-null   float64\n",
      " 192  tBodyGyroJerk-arCoeff()-Y,4           5881 non-null   float64\n",
      " 193  tBodyGyroJerk-arCoeff()-Z,1           5881 non-null   float64\n",
      " 194  tBodyGyroJerk-arCoeff()-Z,2           5881 non-null   float64\n",
      " 195  tBodyGyroJerk-arCoeff()-Z,3           5881 non-null   float64\n",
      " 196  tBodyGyroJerk-arCoeff()-Z,4           5881 non-null   float64\n",
      " 197  tBodyGyroJerk-correlation()-X,Y       5881 non-null   float64\n",
      " 198  tBodyGyroJerk-correlation()-X,Z       5881 non-null   float64\n",
      " 199  tBodyGyroJerk-correlation()-Y,Z       5881 non-null   float64\n",
      " 200  tBodyAccMag-mean()                    5881 non-null   float64\n",
      " 201  tBodyAccMag-std()                     5881 non-null   float64\n",
      " 202  tBodyAccMag-mad()                     5881 non-null   float64\n",
      " 203  tBodyAccMag-max()                     5881 non-null   float64\n",
      " 204  tBodyAccMag-min()                     5881 non-null   float64\n",
      " 205  tBodyAccMag-sma()                     5881 non-null   float64\n",
      " 206  tBodyAccMag-energy()                  5881 non-null   float64\n",
      " 207  tBodyAccMag-iqr()                     5881 non-null   float64\n",
      " 208  tBodyAccMag-entropy()                 5881 non-null   float64\n",
      " 209  tBodyAccMag-arCoeff()1                5881 non-null   float64\n",
      " 210  tBodyAccMag-arCoeff()2                5881 non-null   float64\n",
      " 211  tBodyAccMag-arCoeff()3                5881 non-null   float64\n",
      " 212  tBodyAccMag-arCoeff()4                5881 non-null   float64\n",
      " 213  tGravityAccMag-mean()                 5881 non-null   float64\n",
      " 214  tGravityAccMag-std()                  5881 non-null   float64\n",
      " 215  tGravityAccMag-mad()                  5881 non-null   float64\n",
      " 216  tGravityAccMag-max()                  5881 non-null   float64\n",
      " 217  tGravityAccMag-min()                  5881 non-null   float64\n",
      " 218  tGravityAccMag-sma()                  5881 non-null   float64\n",
      " 219  tGravityAccMag-energy()               5881 non-null   float64\n",
      " 220  tGravityAccMag-iqr()                  5881 non-null   float64\n",
      " 221  tGravityAccMag-entropy()              5881 non-null   float64\n",
      " 222  tGravityAccMag-arCoeff()1             5881 non-null   float64\n",
      " 223  tGravityAccMag-arCoeff()2             5881 non-null   float64\n",
      " 224  tGravityAccMag-arCoeff()3             5881 non-null   float64\n",
      " 225  tGravityAccMag-arCoeff()4             5881 non-null   float64\n",
      " 226  tBodyAccJerkMag-mean()                5881 non-null   float64\n",
      " 227  tBodyAccJerkMag-std()                 5881 non-null   float64\n",
      " 228  tBodyAccJerkMag-mad()                 5881 non-null   float64\n",
      " 229  tBodyAccJerkMag-max()                 5881 non-null   float64\n",
      " 230  tBodyAccJerkMag-min()                 5881 non-null   float64\n",
      " 231  tBodyAccJerkMag-sma()                 5881 non-null   float64\n",
      " 232  tBodyAccJerkMag-energy()              5881 non-null   float64\n",
      " 233  tBodyAccJerkMag-iqr()                 5881 non-null   float64\n",
      " 234  tBodyAccJerkMag-entropy()             5881 non-null   float64\n",
      " 235  tBodyAccJerkMag-arCoeff()1            5881 non-null   float64\n",
      " 236  tBodyAccJerkMag-arCoeff()2            5881 non-null   float64\n",
      " 237  tBodyAccJerkMag-arCoeff()3            5881 non-null   float64\n",
      " 238  tBodyAccJerkMag-arCoeff()4            5881 non-null   float64\n",
      " 239  tBodyGyroMag-mean()                   5881 non-null   float64\n",
      " 240  tBodyGyroMag-std()                    5881 non-null   float64\n",
      " 241  tBodyGyroMag-mad()                    5881 non-null   float64\n",
      " 242  tBodyGyroMag-max()                    5881 non-null   float64\n",
      " 243  tBodyGyroMag-min()                    5881 non-null   float64\n",
      " 244  tBodyGyroMag-sma()                    5881 non-null   float64\n",
      " 245  tBodyGyroMag-energy()                 5881 non-null   float64\n",
      " 246  tBodyGyroMag-iqr()                    5881 non-null   float64\n",
      " 247  tBodyGyroMag-entropy()                5881 non-null   float64\n",
      " 248  tBodyGyroMag-arCoeff()1               5881 non-null   float64\n",
      " 249  tBodyGyroMag-arCoeff()2               5881 non-null   float64\n",
      " 250  tBodyGyroMag-arCoeff()3               5881 non-null   float64\n",
      " 251  tBodyGyroMag-arCoeff()4               5881 non-null   float64\n",
      " 252  tBodyGyroJerkMag-mean()               5881 non-null   float64\n",
      " 253  tBodyGyroJerkMag-std()                5881 non-null   float64\n",
      " 254  tBodyGyroJerkMag-mad()                5881 non-null   float64\n",
      " 255  tBodyGyroJerkMag-max()                5881 non-null   float64\n",
      " 256  tBodyGyroJerkMag-min()                5881 non-null   float64\n",
      " 257  tBodyGyroJerkMag-sma()                5881 non-null   float64\n",
      " 258  tBodyGyroJerkMag-energy()             5881 non-null   float64\n",
      " 259  tBodyGyroJerkMag-iqr()                5881 non-null   float64\n",
      " 260  tBodyGyroJerkMag-entropy()            5881 non-null   float64\n",
      " 261  tBodyGyroJerkMag-arCoeff()1           5881 non-null   float64\n",
      " 262  tBodyGyroJerkMag-arCoeff()2           5881 non-null   float64\n",
      " 263  tBodyGyroJerkMag-arCoeff()3           5881 non-null   float64\n",
      " 264  tBodyGyroJerkMag-arCoeff()4           5881 non-null   float64\n",
      " 265  fBodyAcc-mean()-X                     5881 non-null   float64\n",
      " 266  fBodyAcc-mean()-Y                     5881 non-null   float64\n",
      " 267  fBodyAcc-mean()-Z                     5881 non-null   float64\n",
      " 268  fBodyAcc-std()-X                      5881 non-null   float64\n",
      " 269  fBodyAcc-std()-Y                      5881 non-null   float64\n",
      " 270  fBodyAcc-std()-Z                      5881 non-null   float64\n",
      " 271  fBodyAcc-mad()-X                      5881 non-null   float64\n",
      " 272  fBodyAcc-mad()-Y                      5881 non-null   float64\n",
      " 273  fBodyAcc-mad()-Z                      5881 non-null   float64\n",
      " 274  fBodyAcc-max()-X                      5881 non-null   float64\n",
      " 275  fBodyAcc-max()-Y                      5881 non-null   float64\n",
      " 276  fBodyAcc-max()-Z                      5881 non-null   float64\n",
      " 277  fBodyAcc-min()-X                      5881 non-null   float64\n",
      " 278  fBodyAcc-min()-Y                      5881 non-null   float64\n",
      " 279  fBodyAcc-min()-Z                      5881 non-null   float64\n",
      " 280  fBodyAcc-sma()                        5881 non-null   float64\n",
      " 281  fBodyAcc-energy()-X                   5881 non-null   float64\n",
      " 282  fBodyAcc-energy()-Y                   5881 non-null   float64\n",
      " 283  fBodyAcc-energy()-Z                   5881 non-null   float64\n",
      " 284  fBodyAcc-iqr()-X                      5881 non-null   float64\n",
      " 285  fBodyAcc-iqr()-Y                      5881 non-null   float64\n",
      " 286  fBodyAcc-iqr()-Z                      5881 non-null   float64\n",
      " 287  fBodyAcc-entropy()-X                  5881 non-null   float64\n",
      " 288  fBodyAcc-entropy()-Y                  5881 non-null   float64\n",
      " 289  fBodyAcc-entropy()-Z                  5881 non-null   float64\n",
      " 290  fBodyAcc-maxInds-X                    5881 non-null   float64\n",
      " 291  fBodyAcc-maxInds-Y                    5881 non-null   float64\n",
      " 292  fBodyAcc-maxInds-Z                    5881 non-null   float64\n",
      " 293  fBodyAcc-meanFreq()-X                 5881 non-null   float64\n",
      " 294  fBodyAcc-meanFreq()-Y                 5881 non-null   float64\n",
      " 295  fBodyAcc-meanFreq()-Z                 5881 non-null   float64\n",
      " 296  fBodyAcc-skewness()-X                 5881 non-null   float64\n",
      " 297  fBodyAcc-kurtosis()-X                 5881 non-null   float64\n",
      " 298  fBodyAcc-skewness()-Y                 5881 non-null   float64\n",
      " 299  fBodyAcc-kurtosis()-Y                 5881 non-null   float64\n",
      " 300  fBodyAcc-skewness()-Z                 5881 non-null   float64\n",
      " 301  fBodyAcc-kurtosis()-Z                 5881 non-null   float64\n",
      " 302  fBodyAcc-bandsEnergy()-1,8            5881 non-null   float64\n",
      " 303  fBodyAcc-bandsEnergy()-9,16           5881 non-null   float64\n",
      " 304  fBodyAcc-bandsEnergy()-17,24          5881 non-null   float64\n",
      " 305  fBodyAcc-bandsEnergy()-25,32          5881 non-null   float64\n",
      " 306  fBodyAcc-bandsEnergy()-33,40          5881 non-null   float64\n",
      " 307  fBodyAcc-bandsEnergy()-41,48          5881 non-null   float64\n",
      " 308  fBodyAcc-bandsEnergy()-49,56          5881 non-null   float64\n",
      " 309  fBodyAcc-bandsEnergy()-57,64          5881 non-null   float64\n",
      " 310  fBodyAcc-bandsEnergy()-1,16           5881 non-null   float64\n",
      " 311  fBodyAcc-bandsEnergy()-17,32          5881 non-null   float64\n",
      " 312  fBodyAcc-bandsEnergy()-33,48          5881 non-null   float64\n",
      " 313  fBodyAcc-bandsEnergy()-49,64          5881 non-null   float64\n",
      " 314  fBodyAcc-bandsEnergy()-1,24           5881 non-null   float64\n",
      " 315  fBodyAcc-bandsEnergy()-25,48          5881 non-null   float64\n",
      " 316  fBodyAcc-bandsEnergy()-1,8.1          5881 non-null   float64\n",
      " 317  fBodyAcc-bandsEnergy()-9,16.1         5881 non-null   float64\n",
      " 318  fBodyAcc-bandsEnergy()-17,24.1        5881 non-null   float64\n",
      " 319  fBodyAcc-bandsEnergy()-25,32.1        5881 non-null   float64\n",
      " 320  fBodyAcc-bandsEnergy()-33,40.1        5881 non-null   float64\n",
      " 321  fBodyAcc-bandsEnergy()-41,48.1        5881 non-null   float64\n",
      " 322  fBodyAcc-bandsEnergy()-49,56.1        5881 non-null   float64\n",
      " 323  fBodyAcc-bandsEnergy()-57,64.1        5881 non-null   float64\n",
      " 324  fBodyAcc-bandsEnergy()-1,16.1         5881 non-null   float64\n",
      " 325  fBodyAcc-bandsEnergy()-17,32.1        5881 non-null   float64\n",
      " 326  fBodyAcc-bandsEnergy()-33,48.1        5881 non-null   float64\n",
      " 327  fBodyAcc-bandsEnergy()-49,64.1        5881 non-null   float64\n",
      " 328  fBodyAcc-bandsEnergy()-1,24.1         5881 non-null   float64\n",
      " 329  fBodyAcc-bandsEnergy()-25,48.1        5881 non-null   float64\n",
      " 330  fBodyAcc-bandsEnergy()-1,8.2          5881 non-null   float64\n",
      " 331  fBodyAcc-bandsEnergy()-9,16.2         5881 non-null   float64\n",
      " 332  fBodyAcc-bandsEnergy()-17,24.2        5881 non-null   float64\n",
      " 333  fBodyAcc-bandsEnergy()-25,32.2        5881 non-null   float64\n",
      " 334  fBodyAcc-bandsEnergy()-33,40.2        5881 non-null   float64\n",
      " 335  fBodyAcc-bandsEnergy()-41,48.2        5881 non-null   float64\n",
      " 336  fBodyAcc-bandsEnergy()-49,56.2        5881 non-null   float64\n",
      " 337  fBodyAcc-bandsEnergy()-57,64.2        5881 non-null   float64\n",
      " 338  fBodyAcc-bandsEnergy()-1,16.2         5881 non-null   float64\n",
      " 339  fBodyAcc-bandsEnergy()-17,32.2        5881 non-null   float64\n",
      " 340  fBodyAcc-bandsEnergy()-33,48.2        5881 non-null   float64\n",
      " 341  fBodyAcc-bandsEnergy()-49,64.2        5881 non-null   float64\n",
      " 342  fBodyAcc-bandsEnergy()-1,24.2         5881 non-null   float64\n",
      " 343  fBodyAcc-bandsEnergy()-25,48.2        5881 non-null   float64\n",
      " 344  fBodyAccJerk-mean()-X                 5881 non-null   float64\n",
      " 345  fBodyAccJerk-mean()-Y                 5881 non-null   float64\n",
      " 346  fBodyAccJerk-mean()-Z                 5881 non-null   float64\n",
      " 347  fBodyAccJerk-std()-X                  5881 non-null   float64\n",
      " 348  fBodyAccJerk-std()-Y                  5881 non-null   float64\n",
      " 349  fBodyAccJerk-std()-Z                  5881 non-null   float64\n",
      " 350  fBodyAccJerk-mad()-X                  5881 non-null   float64\n",
      " 351  fBodyAccJerk-mad()-Y                  5881 non-null   float64\n",
      " 352  fBodyAccJerk-mad()-Z                  5881 non-null   float64\n",
      " 353  fBodyAccJerk-max()-X                  5881 non-null   float64\n",
      " 354  fBodyAccJerk-max()-Y                  5881 non-null   float64\n",
      " 355  fBodyAccJerk-max()-Z                  5881 non-null   float64\n",
      " 356  fBodyAccJerk-min()-X                  5881 non-null   float64\n",
      " 357  fBodyAccJerk-min()-Y                  5881 non-null   float64\n",
      " 358  fBodyAccJerk-min()-Z                  5881 non-null   float64\n",
      " 359  fBodyAccJerk-sma()                    5881 non-null   float64\n",
      " 360  fBodyAccJerk-energy()-X               5881 non-null   float64\n",
      " 361  fBodyAccJerk-energy()-Y               5881 non-null   float64\n",
      " 362  fBodyAccJerk-energy()-Z               5881 non-null   float64\n",
      " 363  fBodyAccJerk-iqr()-X                  5881 non-null   float64\n",
      " 364  fBodyAccJerk-iqr()-Y                  5881 non-null   float64\n",
      " 365  fBodyAccJerk-iqr()-Z                  5881 non-null   float64\n",
      " 366  fBodyAccJerk-entropy()-X              5881 non-null   float64\n",
      " 367  fBodyAccJerk-entropy()-Y              5881 non-null   float64\n",
      " 368  fBodyAccJerk-entropy()-Z              5881 non-null   float64\n",
      " 369  fBodyAccJerk-maxInds-X                5881 non-null   float64\n",
      " 370  fBodyAccJerk-maxInds-Y                5881 non-null   float64\n",
      " 371  fBodyAccJerk-maxInds-Z                5881 non-null   float64\n",
      " 372  fBodyAccJerk-meanFreq()-X             5881 non-null   float64\n",
      " 373  fBodyAccJerk-meanFreq()-Y             5881 non-null   float64\n",
      " 374  fBodyAccJerk-meanFreq()-Z             5881 non-null   float64\n",
      " 375  fBodyAccJerk-skewness()-X             5881 non-null   float64\n",
      " 376  fBodyAccJerk-kurtosis()-X             5881 non-null   float64\n",
      " 377  fBodyAccJerk-skewness()-Y             5881 non-null   float64\n",
      " 378  fBodyAccJerk-kurtosis()-Y             5881 non-null   float64\n",
      " 379  fBodyAccJerk-skewness()-Z             5881 non-null   float64\n",
      " 380  fBodyAccJerk-kurtosis()-Z             5881 non-null   float64\n",
      " 381  fBodyAccJerk-bandsEnergy()-1,8        5881 non-null   float64\n",
      " 382  fBodyAccJerk-bandsEnergy()-9,16       5881 non-null   float64\n",
      " 383  fBodyAccJerk-bandsEnergy()-17,24      5881 non-null   float64\n",
      " 384  fBodyAccJerk-bandsEnergy()-25,32      5881 non-null   float64\n",
      " 385  fBodyAccJerk-bandsEnergy()-33,40      5881 non-null   float64\n",
      " 386  fBodyAccJerk-bandsEnergy()-41,48      5881 non-null   float64\n",
      " 387  fBodyAccJerk-bandsEnergy()-49,56      5881 non-null   float64\n",
      " 388  fBodyAccJerk-bandsEnergy()-57,64      5881 non-null   float64\n",
      " 389  fBodyAccJerk-bandsEnergy()-1,16       5881 non-null   float64\n",
      " 390  fBodyAccJerk-bandsEnergy()-17,32      5881 non-null   float64\n",
      " 391  fBodyAccJerk-bandsEnergy()-33,48      5881 non-null   float64\n",
      " 392  fBodyAccJerk-bandsEnergy()-49,64      5881 non-null   float64\n",
      " 393  fBodyAccJerk-bandsEnergy()-1,24       5881 non-null   float64\n",
      " 394  fBodyAccJerk-bandsEnergy()-25,48      5881 non-null   float64\n",
      " 395  fBodyAccJerk-bandsEnergy()-1,8.1      5881 non-null   float64\n",
      " 396  fBodyAccJerk-bandsEnergy()-9,16.1     5881 non-null   float64\n",
      " 397  fBodyAccJerk-bandsEnergy()-17,24.1    5881 non-null   float64\n",
      " 398  fBodyAccJerk-bandsEnergy()-25,32.1    5881 non-null   float64\n",
      " 399  fBodyAccJerk-bandsEnergy()-33,40.1    5881 non-null   float64\n",
      " 400  fBodyAccJerk-bandsEnergy()-41,48.1    5881 non-null   float64\n",
      " 401  fBodyAccJerk-bandsEnergy()-49,56.1    5881 non-null   float64\n",
      " 402  fBodyAccJerk-bandsEnergy()-57,64.1    5881 non-null   float64\n",
      " 403  fBodyAccJerk-bandsEnergy()-1,16.1     5881 non-null   float64\n",
      " 404  fBodyAccJerk-bandsEnergy()-17,32.1    5881 non-null   float64\n",
      " 405  fBodyAccJerk-bandsEnergy()-33,48.1    5881 non-null   float64\n",
      " 406  fBodyAccJerk-bandsEnergy()-49,64.1    5881 non-null   float64\n",
      " 407  fBodyAccJerk-bandsEnergy()-1,24.1     5881 non-null   float64\n",
      " 408  fBodyAccJerk-bandsEnergy()-25,48.1    5881 non-null   float64\n",
      " 409  fBodyAccJerk-bandsEnergy()-1,8.2      5881 non-null   float64\n",
      " 410  fBodyAccJerk-bandsEnergy()-9,16.2     5881 non-null   float64\n",
      " 411  fBodyAccJerk-bandsEnergy()-17,24.2    5881 non-null   float64\n",
      " 412  fBodyAccJerk-bandsEnergy()-25,32.2    5881 non-null   float64\n",
      " 413  fBodyAccJerk-bandsEnergy()-33,40.2    5881 non-null   float64\n",
      " 414  fBodyAccJerk-bandsEnergy()-41,48.2    5881 non-null   float64\n",
      " 415  fBodyAccJerk-bandsEnergy()-49,56.2    5881 non-null   float64\n",
      " 416  fBodyAccJerk-bandsEnergy()-57,64.2    5881 non-null   float64\n",
      " 417  fBodyAccJerk-bandsEnergy()-1,16.2     5881 non-null   float64\n",
      " 418  fBodyAccJerk-bandsEnergy()-17,32.2    5881 non-null   float64\n",
      " 419  fBodyAccJerk-bandsEnergy()-33,48.2    5881 non-null   float64\n",
      " 420  fBodyAccJerk-bandsEnergy()-49,64.2    5881 non-null   float64\n",
      " 421  fBodyAccJerk-bandsEnergy()-1,24.2     5881 non-null   float64\n",
      " 422  fBodyAccJerk-bandsEnergy()-25,48.2    5881 non-null   float64\n",
      " 423  fBodyGyro-mean()-X                    5881 non-null   float64\n",
      " 424  fBodyGyro-mean()-Y                    5881 non-null   float64\n",
      " 425  fBodyGyro-mean()-Z                    5881 non-null   float64\n",
      " 426  fBodyGyro-std()-X                     5881 non-null   float64\n",
      " 427  fBodyGyro-std()-Y                     5881 non-null   float64\n",
      " 428  fBodyGyro-std()-Z                     5881 non-null   float64\n",
      " 429  fBodyGyro-mad()-X                     5881 non-null   float64\n",
      " 430  fBodyGyro-mad()-Y                     5881 non-null   float64\n",
      " 431  fBodyGyro-mad()-Z                     5881 non-null   float64\n",
      " 432  fBodyGyro-max()-X                     5881 non-null   float64\n",
      " 433  fBodyGyro-max()-Y                     5881 non-null   float64\n",
      " 434  fBodyGyro-max()-Z                     5881 non-null   float64\n",
      " 435  fBodyGyro-min()-X                     5881 non-null   float64\n",
      " 436  fBodyGyro-min()-Y                     5881 non-null   float64\n",
      " 437  fBodyGyro-min()-Z                     5881 non-null   float64\n",
      " 438  fBodyGyro-sma()                       5881 non-null   float64\n",
      " 439  fBodyGyro-energy()-X                  5881 non-null   float64\n",
      " 440  fBodyGyro-energy()-Y                  5881 non-null   float64\n",
      " 441  fBodyGyro-energy()-Z                  5881 non-null   float64\n",
      " 442  fBodyGyro-iqr()-X                     5881 non-null   float64\n",
      " 443  fBodyGyro-iqr()-Y                     5881 non-null   float64\n",
      " 444  fBodyGyro-iqr()-Z                     5881 non-null   float64\n",
      " 445  fBodyGyro-entropy()-X                 5881 non-null   float64\n",
      " 446  fBodyGyro-entropy()-Y                 5881 non-null   float64\n",
      " 447  fBodyGyro-entropy()-Z                 5881 non-null   float64\n",
      " 448  fBodyGyro-maxInds-X                   5881 non-null   float64\n",
      " 449  fBodyGyro-maxInds-Y                   5881 non-null   float64\n",
      " 450  fBodyGyro-maxInds-Z                   5881 non-null   float64\n",
      " 451  fBodyGyro-meanFreq()-X                5881 non-null   float64\n",
      " 452  fBodyGyro-meanFreq()-Y                5881 non-null   float64\n",
      " 453  fBodyGyro-meanFreq()-Z                5881 non-null   float64\n",
      " 454  fBodyGyro-skewness()-X                5881 non-null   float64\n",
      " 455  fBodyGyro-kurtosis()-X                5881 non-null   float64\n",
      " 456  fBodyGyro-skewness()-Y                5881 non-null   float64\n",
      " 457  fBodyGyro-kurtosis()-Y                5881 non-null   float64\n",
      " 458  fBodyGyro-skewness()-Z                5881 non-null   float64\n",
      " 459  fBodyGyro-kurtosis()-Z                5881 non-null   float64\n",
      " 460  fBodyGyro-bandsEnergy()-1,8           5881 non-null   float64\n",
      " 461  fBodyGyro-bandsEnergy()-9,16          5881 non-null   float64\n",
      " 462  fBodyGyro-bandsEnergy()-17,24         5881 non-null   float64\n",
      " 463  fBodyGyro-bandsEnergy()-25,32         5881 non-null   float64\n",
      " 464  fBodyGyro-bandsEnergy()-33,40         5881 non-null   float64\n",
      " 465  fBodyGyro-bandsEnergy()-41,48         5881 non-null   float64\n",
      " 466  fBodyGyro-bandsEnergy()-49,56         5881 non-null   float64\n",
      " 467  fBodyGyro-bandsEnergy()-57,64         5881 non-null   float64\n",
      " 468  fBodyGyro-bandsEnergy()-1,16          5881 non-null   float64\n",
      " 469  fBodyGyro-bandsEnergy()-17,32         5881 non-null   float64\n",
      " 470  fBodyGyro-bandsEnergy()-33,48         5881 non-null   float64\n",
      " 471  fBodyGyro-bandsEnergy()-49,64         5881 non-null   float64\n",
      " 472  fBodyGyro-bandsEnergy()-1,24          5881 non-null   float64\n",
      " 473  fBodyGyro-bandsEnergy()-25,48         5881 non-null   float64\n",
      " 474  fBodyGyro-bandsEnergy()-1,8.1         5881 non-null   float64\n",
      " 475  fBodyGyro-bandsEnergy()-9,16.1        5881 non-null   float64\n",
      " 476  fBodyGyro-bandsEnergy()-17,24.1       5881 non-null   float64\n",
      " 477  fBodyGyro-bandsEnergy()-25,32.1       5881 non-null   float64\n",
      " 478  fBodyGyro-bandsEnergy()-33,40.1       5881 non-null   float64\n",
      " 479  fBodyGyro-bandsEnergy()-41,48.1       5881 non-null   float64\n",
      " 480  fBodyGyro-bandsEnergy()-49,56.1       5881 non-null   float64\n",
      " 481  fBodyGyro-bandsEnergy()-57,64.1       5881 non-null   float64\n",
      " 482  fBodyGyro-bandsEnergy()-1,16.1        5881 non-null   float64\n",
      " 483  fBodyGyro-bandsEnergy()-17,32.1       5881 non-null   float64\n",
      " 484  fBodyGyro-bandsEnergy()-33,48.1       5881 non-null   float64\n",
      " 485  fBodyGyro-bandsEnergy()-49,64.1       5881 non-null   float64\n",
      " 486  fBodyGyro-bandsEnergy()-1,24.1        5881 non-null   float64\n",
      " 487  fBodyGyro-bandsEnergy()-25,48.1       5881 non-null   float64\n",
      " 488  fBodyGyro-bandsEnergy()-1,8.2         5881 non-null   float64\n",
      " 489  fBodyGyro-bandsEnergy()-9,16.2        5881 non-null   float64\n",
      " 490  fBodyGyro-bandsEnergy()-17,24.2       5881 non-null   float64\n",
      " 491  fBodyGyro-bandsEnergy()-25,32.2       5881 non-null   float64\n",
      " 492  fBodyGyro-bandsEnergy()-33,40.2       5881 non-null   float64\n",
      " 493  fBodyGyro-bandsEnergy()-41,48.2       5881 non-null   float64\n",
      " 494  fBodyGyro-bandsEnergy()-49,56.2       5881 non-null   float64\n",
      " 495  fBodyGyro-bandsEnergy()-57,64.2       5881 non-null   float64\n",
      " 496  fBodyGyro-bandsEnergy()-1,16.2        5881 non-null   float64\n",
      " 497  fBodyGyro-bandsEnergy()-17,32.2       5881 non-null   float64\n",
      " 498  fBodyGyro-bandsEnergy()-33,48.2       5881 non-null   float64\n",
      " 499  fBodyGyro-bandsEnergy()-49,64.2       5881 non-null   float64\n",
      " 500  fBodyGyro-bandsEnergy()-1,24.2        5881 non-null   float64\n",
      " 501  fBodyGyro-bandsEnergy()-25,48.2       5881 non-null   float64\n",
      " 502  fBodyAccMag-mean()                    5881 non-null   float64\n",
      " 503  fBodyAccMag-std()                     5881 non-null   float64\n",
      " 504  fBodyAccMag-mad()                     5881 non-null   float64\n",
      " 505  fBodyAccMag-max()                     5881 non-null   float64\n",
      " 506  fBodyAccMag-min()                     5881 non-null   float64\n",
      " 507  fBodyAccMag-sma()                     5881 non-null   float64\n",
      " 508  fBodyAccMag-energy()                  5881 non-null   float64\n",
      " 509  fBodyAccMag-iqr()                     5881 non-null   float64\n",
      " 510  fBodyAccMag-entropy()                 5881 non-null   float64\n",
      " 511  fBodyAccMag-maxInds                   5881 non-null   float64\n",
      " 512  fBodyAccMag-meanFreq()                5881 non-null   float64\n",
      " 513  fBodyAccMag-skewness()                5881 non-null   float64\n",
      " 514  fBodyAccMag-kurtosis()                5881 non-null   float64\n",
      " 515  fBodyBodyAccJerkMag-mean()            5881 non-null   float64\n",
      " 516  fBodyBodyAccJerkMag-std()             5881 non-null   float64\n",
      " 517  fBodyBodyAccJerkMag-mad()             5881 non-null   float64\n",
      " 518  fBodyBodyAccJerkMag-max()             5881 non-null   float64\n",
      " 519  fBodyBodyAccJerkMag-min()             5881 non-null   float64\n",
      " 520  fBodyBodyAccJerkMag-sma()             5881 non-null   float64\n",
      " 521  fBodyBodyAccJerkMag-energy()          5881 non-null   float64\n",
      " 522  fBodyBodyAccJerkMag-iqr()             5881 non-null   float64\n",
      " 523  fBodyBodyAccJerkMag-entropy()         5881 non-null   float64\n",
      " 524  fBodyBodyAccJerkMag-maxInds           5881 non-null   float64\n",
      " 525  fBodyBodyAccJerkMag-meanFreq()        5881 non-null   float64\n",
      " 526  fBodyBodyAccJerkMag-skewness()        5881 non-null   float64\n",
      " 527  fBodyBodyAccJerkMag-kurtosis()        5881 non-null   float64\n",
      " 528  fBodyBodyGyroMag-mean()               5881 non-null   float64\n",
      " 529  fBodyBodyGyroMag-std()                5881 non-null   float64\n",
      " 530  fBodyBodyGyroMag-mad()                5881 non-null   float64\n",
      " 531  fBodyBodyGyroMag-max()                5881 non-null   float64\n",
      " 532  fBodyBodyGyroMag-min()                5881 non-null   float64\n",
      " 533  fBodyBodyGyroMag-sma()                5881 non-null   float64\n",
      " 534  fBodyBodyGyroMag-energy()             5881 non-null   float64\n",
      " 535  fBodyBodyGyroMag-iqr()                5881 non-null   float64\n",
      " 536  fBodyBodyGyroMag-entropy()            5881 non-null   float64\n",
      " 537  fBodyBodyGyroMag-maxInds              5881 non-null   float64\n",
      " 538  fBodyBodyGyroMag-meanFreq()           5881 non-null   float64\n",
      " 539  fBodyBodyGyroMag-skewness()           5881 non-null   float64\n",
      " 540  fBodyBodyGyroMag-kurtosis()           5881 non-null   float64\n",
      " 541  fBodyBodyGyroJerkMag-mean()           5881 non-null   float64\n",
      " 542  fBodyBodyGyroJerkMag-std()            5881 non-null   float64\n",
      " 543  fBodyBodyGyroJerkMag-mad()            5881 non-null   float64\n",
      " 544  fBodyBodyGyroJerkMag-max()            5881 non-null   float64\n",
      " 545  fBodyBodyGyroJerkMag-min()            5881 non-null   float64\n",
      " 546  fBodyBodyGyroJerkMag-sma()            5881 non-null   float64\n",
      " 547  fBodyBodyGyroJerkMag-energy()         5881 non-null   float64\n",
      " 548  fBodyBodyGyroJerkMag-iqr()            5881 non-null   float64\n",
      " 549  fBodyBodyGyroJerkMag-entropy()        5881 non-null   float64\n",
      " 550  fBodyBodyGyroJerkMag-maxInds          5881 non-null   float64\n",
      " 551  fBodyBodyGyroJerkMag-meanFreq()       5881 non-null   float64\n",
      " 552  fBodyBodyGyroJerkMag-skewness()       5881 non-null   float64\n",
      " 553  fBodyBodyGyroJerkMag-kurtosis()       5881 non-null   float64\n",
      " 554  angle(tBodyAccMean,gravity)           5881 non-null   float64\n",
      " 555  angle(tBodyAccJerkMean),gravityMean)  5881 non-null   float64\n",
      " 556  angle(tBodyGyroMean,gravityMean)      5881 non-null   float64\n",
      " 557  angle(tBodyGyroJerkMean,gravityMean)  5881 non-null   float64\n",
      " 558  angle(X,gravityMean)                  5881 non-null   float64\n",
      " 559  angle(Y,gravityMean)                  5881 non-null   float64\n",
      " 560  angle(Z,gravityMean)                  5881 non-null   float64\n",
      " 561  Activity                              5881 non-null   object \n",
      "dtypes: float64(561), object(1)\n",
      "memory usage: 25.2+ MB\n"
     ]
    },
    {
     "name": "stderr",
     "output_type": "stream",
     "text": [
      "C:\\Users\\user\\AppData\\Local\\Temp\\ipykernel_18728\\233952985.py:4: FutureWarning: null_counts is deprecated. Use show_counts instead\n",
      "  data.info(verbose=True, null_counts=True)\n"
     ]
    }
   ],
   "source": [
    "# 데이터 기초 정보 확인2\n",
    "## data 데이터프레임의 컬럼명, 데이터 개수, 타입 정보를 보기 쉽게 출력해 주세요.\n",
    "## 파라미터: verbose=True, null_counts=True\n",
    "data.info(verbose=True, null_counts=True)\n",
    "\n"
   ]
  },
  {
   "cell_type": "code",
   "execution_count": 15,
   "metadata": {
    "colab": {
     "base_uri": "https://localhost:8080/",
     "height": 411
    },
    "executionInfo": {
     "elapsed": 1565,
     "status": "ok",
     "timestamp": 1676246889874,
     "user": {
      "displayName": "YB Choi",
      "userId": "15474749006288987898"
     },
     "user_tz": -540
    },
    "id": "rpIGL5XNFL6r",
    "outputId": "3740ceae-cf61-4962-b6ef-7489be9f24c4",
    "tags": []
   },
   "outputs": [
    {
     "data": {
      "text/html": [
       "<div>\n",
       "<style scoped>\n",
       "    .dataframe tbody tr th:only-of-type {\n",
       "        vertical-align: middle;\n",
       "    }\n",
       "\n",
       "    .dataframe tbody tr th {\n",
       "        vertical-align: top;\n",
       "    }\n",
       "\n",
       "    .dataframe thead th {\n",
       "        text-align: right;\n",
       "    }\n",
       "</style>\n",
       "<table border=\"1\" class=\"dataframe\">\n",
       "  <thead>\n",
       "    <tr style=\"text-align: right;\">\n",
       "      <th></th>\n",
       "      <th>tBodyAcc-mean()-X</th>\n",
       "      <th>tBodyAcc-mean()-Y</th>\n",
       "      <th>tBodyAcc-mean()-Z</th>\n",
       "      <th>tBodyAcc-std()-X</th>\n",
       "      <th>tBodyAcc-std()-Y</th>\n",
       "      <th>tBodyAcc-std()-Z</th>\n",
       "      <th>tBodyAcc-mad()-X</th>\n",
       "      <th>tBodyAcc-mad()-Y</th>\n",
       "      <th>tBodyAcc-mad()-Z</th>\n",
       "      <th>tBodyAcc-max()-X</th>\n",
       "      <th>...</th>\n",
       "      <th>fBodyBodyGyroJerkMag-meanFreq()</th>\n",
       "      <th>fBodyBodyGyroJerkMag-skewness()</th>\n",
       "      <th>fBodyBodyGyroJerkMag-kurtosis()</th>\n",
       "      <th>angle(tBodyAccMean,gravity)</th>\n",
       "      <th>angle(tBodyAccJerkMean),gravityMean)</th>\n",
       "      <th>angle(tBodyGyroMean,gravityMean)</th>\n",
       "      <th>angle(tBodyGyroJerkMean,gravityMean)</th>\n",
       "      <th>angle(X,gravityMean)</th>\n",
       "      <th>angle(Y,gravityMean)</th>\n",
       "      <th>angle(Z,gravityMean)</th>\n",
       "    </tr>\n",
       "  </thead>\n",
       "  <tbody>\n",
       "    <tr>\n",
       "      <th>count</th>\n",
       "      <td>5881.000000</td>\n",
       "      <td>5881.000000</td>\n",
       "      <td>5881.000000</td>\n",
       "      <td>5881.000000</td>\n",
       "      <td>5881.000000</td>\n",
       "      <td>5881.000000</td>\n",
       "      <td>5881.000000</td>\n",
       "      <td>5881.000000</td>\n",
       "      <td>5881.000000</td>\n",
       "      <td>5881.000000</td>\n",
       "      <td>...</td>\n",
       "      <td>5881.000000</td>\n",
       "      <td>5881.000000</td>\n",
       "      <td>5881.000000</td>\n",
       "      <td>5881.000000</td>\n",
       "      <td>5881.000000</td>\n",
       "      <td>5881.000000</td>\n",
       "      <td>5881.000000</td>\n",
       "      <td>5881.000000</td>\n",
       "      <td>5881.000000</td>\n",
       "      <td>5881.000000</td>\n",
       "    </tr>\n",
       "    <tr>\n",
       "      <th>mean</th>\n",
       "      <td>0.274811</td>\n",
       "      <td>-0.017799</td>\n",
       "      <td>-0.109396</td>\n",
       "      <td>-0.603138</td>\n",
       "      <td>-0.509815</td>\n",
       "      <td>-0.604058</td>\n",
       "      <td>-0.628151</td>\n",
       "      <td>-0.525944</td>\n",
       "      <td>-0.605374</td>\n",
       "      <td>-0.465490</td>\n",
       "      <td>...</td>\n",
       "      <td>0.126955</td>\n",
       "      <td>-0.305883</td>\n",
       "      <td>-0.623548</td>\n",
       "      <td>0.008524</td>\n",
       "      <td>-0.001185</td>\n",
       "      <td>0.009340</td>\n",
       "      <td>-0.007099</td>\n",
       "      <td>-0.491501</td>\n",
       "      <td>0.059299</td>\n",
       "      <td>-0.054594</td>\n",
       "    </tr>\n",
       "    <tr>\n",
       "      <th>std</th>\n",
       "      <td>0.067614</td>\n",
       "      <td>0.039422</td>\n",
       "      <td>0.058373</td>\n",
       "      <td>0.448807</td>\n",
       "      <td>0.501815</td>\n",
       "      <td>0.417319</td>\n",
       "      <td>0.424345</td>\n",
       "      <td>0.485115</td>\n",
       "      <td>0.413043</td>\n",
       "      <td>0.544995</td>\n",
       "      <td>...</td>\n",
       "      <td>0.249176</td>\n",
       "      <td>0.322808</td>\n",
       "      <td>0.310371</td>\n",
       "      <td>0.339730</td>\n",
       "      <td>0.447197</td>\n",
       "      <td>0.608190</td>\n",
       "      <td>0.476738</td>\n",
       "      <td>0.509069</td>\n",
       "      <td>0.297340</td>\n",
       "      <td>0.278479</td>\n",
       "    </tr>\n",
       "    <tr>\n",
       "      <th>min</th>\n",
       "      <td>-0.503823</td>\n",
       "      <td>-0.684893</td>\n",
       "      <td>-1.000000</td>\n",
       "      <td>-1.000000</td>\n",
       "      <td>-0.999844</td>\n",
       "      <td>-0.999667</td>\n",
       "      <td>-1.000000</td>\n",
       "      <td>-0.999419</td>\n",
       "      <td>-1.000000</td>\n",
       "      <td>-1.000000</td>\n",
       "      <td>...</td>\n",
       "      <td>-0.965725</td>\n",
       "      <td>-0.979261</td>\n",
       "      <td>-0.999765</td>\n",
       "      <td>-0.976580</td>\n",
       "      <td>-1.000000</td>\n",
       "      <td>-1.000000</td>\n",
       "      <td>-1.000000</td>\n",
       "      <td>-1.000000</td>\n",
       "      <td>-1.000000</td>\n",
       "      <td>-0.980143</td>\n",
       "    </tr>\n",
       "    <tr>\n",
       "      <th>25%</th>\n",
       "      <td>0.262919</td>\n",
       "      <td>-0.024877</td>\n",
       "      <td>-0.121051</td>\n",
       "      <td>-0.992774</td>\n",
       "      <td>-0.977680</td>\n",
       "      <td>-0.980127</td>\n",
       "      <td>-0.993602</td>\n",
       "      <td>-0.977865</td>\n",
       "      <td>-0.980112</td>\n",
       "      <td>-0.936067</td>\n",
       "      <td>...</td>\n",
       "      <td>-0.021610</td>\n",
       "      <td>-0.541969</td>\n",
       "      <td>-0.845985</td>\n",
       "      <td>-0.122361</td>\n",
       "      <td>-0.294369</td>\n",
       "      <td>-0.481718</td>\n",
       "      <td>-0.373345</td>\n",
       "      <td>-0.811397</td>\n",
       "      <td>-0.018203</td>\n",
       "      <td>-0.141555</td>\n",
       "    </tr>\n",
       "    <tr>\n",
       "      <th>50%</th>\n",
       "      <td>0.277154</td>\n",
       "      <td>-0.017221</td>\n",
       "      <td>-0.108781</td>\n",
       "      <td>-0.943933</td>\n",
       "      <td>-0.844575</td>\n",
       "      <td>-0.856352</td>\n",
       "      <td>-0.948501</td>\n",
       "      <td>-0.849266</td>\n",
       "      <td>-0.849896</td>\n",
       "      <td>-0.878729</td>\n",
       "      <td>...</td>\n",
       "      <td>0.133887</td>\n",
       "      <td>-0.342923</td>\n",
       "      <td>-0.712677</td>\n",
       "      <td>0.010278</td>\n",
       "      <td>0.005146</td>\n",
       "      <td>0.011448</td>\n",
       "      <td>-0.000847</td>\n",
       "      <td>-0.709441</td>\n",
       "      <td>0.182893</td>\n",
       "      <td>0.003951</td>\n",
       "    </tr>\n",
       "    <tr>\n",
       "      <th>75%</th>\n",
       "      <td>0.288526</td>\n",
       "      <td>-0.010920</td>\n",
       "      <td>-0.098163</td>\n",
       "      <td>-0.242130</td>\n",
       "      <td>-0.034499</td>\n",
       "      <td>-0.262690</td>\n",
       "      <td>-0.291138</td>\n",
       "      <td>-0.068857</td>\n",
       "      <td>-0.268539</td>\n",
       "      <td>-0.013690</td>\n",
       "      <td>...</td>\n",
       "      <td>0.288944</td>\n",
       "      <td>-0.127371</td>\n",
       "      <td>-0.501158</td>\n",
       "      <td>0.154985</td>\n",
       "      <td>0.285030</td>\n",
       "      <td>0.499857</td>\n",
       "      <td>0.356236</td>\n",
       "      <td>-0.511330</td>\n",
       "      <td>0.248435</td>\n",
       "      <td>0.111932</td>\n",
       "    </tr>\n",
       "    <tr>\n",
       "      <th>max</th>\n",
       "      <td>1.000000</td>\n",
       "      <td>1.000000</td>\n",
       "      <td>1.000000</td>\n",
       "      <td>1.000000</td>\n",
       "      <td>0.916238</td>\n",
       "      <td>1.000000</td>\n",
       "      <td>1.000000</td>\n",
       "      <td>0.967664</td>\n",
       "      <td>1.000000</td>\n",
       "      <td>1.000000</td>\n",
       "      <td>...</td>\n",
       "      <td>0.946700</td>\n",
       "      <td>0.989538</td>\n",
       "      <td>0.956845</td>\n",
       "      <td>1.000000</td>\n",
       "      <td>1.000000</td>\n",
       "      <td>0.998702</td>\n",
       "      <td>0.996078</td>\n",
       "      <td>0.977344</td>\n",
       "      <td>0.478157</td>\n",
       "      <td>1.000000</td>\n",
       "    </tr>\n",
       "  </tbody>\n",
       "</table>\n",
       "<p>8 rows × 561 columns</p>\n",
       "</div>"
      ],
      "text/plain": [
       "       tBodyAcc-mean()-X  tBodyAcc-mean()-Y  tBodyAcc-mean()-Z  \\\n",
       "count        5881.000000        5881.000000        5881.000000   \n",
       "mean            0.274811          -0.017799          -0.109396   \n",
       "std             0.067614           0.039422           0.058373   \n",
       "min            -0.503823          -0.684893          -1.000000   \n",
       "25%             0.262919          -0.024877          -0.121051   \n",
       "50%             0.277154          -0.017221          -0.108781   \n",
       "75%             0.288526          -0.010920          -0.098163   \n",
       "max             1.000000           1.000000           1.000000   \n",
       "\n",
       "       tBodyAcc-std()-X  tBodyAcc-std()-Y  tBodyAcc-std()-Z  tBodyAcc-mad()-X  \\\n",
       "count       5881.000000       5881.000000       5881.000000       5881.000000   \n",
       "mean          -0.603138         -0.509815         -0.604058         -0.628151   \n",
       "std            0.448807          0.501815          0.417319          0.424345   \n",
       "min           -1.000000         -0.999844         -0.999667         -1.000000   \n",
       "25%           -0.992774         -0.977680         -0.980127         -0.993602   \n",
       "50%           -0.943933         -0.844575         -0.856352         -0.948501   \n",
       "75%           -0.242130         -0.034499         -0.262690         -0.291138   \n",
       "max            1.000000          0.916238          1.000000          1.000000   \n",
       "\n",
       "       tBodyAcc-mad()-Y  tBodyAcc-mad()-Z  tBodyAcc-max()-X  ...  \\\n",
       "count       5881.000000       5881.000000       5881.000000  ...   \n",
       "mean          -0.525944         -0.605374         -0.465490  ...   \n",
       "std            0.485115          0.413043          0.544995  ...   \n",
       "min           -0.999419         -1.000000         -1.000000  ...   \n",
       "25%           -0.977865         -0.980112         -0.936067  ...   \n",
       "50%           -0.849266         -0.849896         -0.878729  ...   \n",
       "75%           -0.068857         -0.268539         -0.013690  ...   \n",
       "max            0.967664          1.000000          1.000000  ...   \n",
       "\n",
       "       fBodyBodyGyroJerkMag-meanFreq()  fBodyBodyGyroJerkMag-skewness()  \\\n",
       "count                      5881.000000                      5881.000000   \n",
       "mean                          0.126955                        -0.305883   \n",
       "std                           0.249176                         0.322808   \n",
       "min                          -0.965725                        -0.979261   \n",
       "25%                          -0.021610                        -0.541969   \n",
       "50%                           0.133887                        -0.342923   \n",
       "75%                           0.288944                        -0.127371   \n",
       "max                           0.946700                         0.989538   \n",
       "\n",
       "       fBodyBodyGyroJerkMag-kurtosis()  angle(tBodyAccMean,gravity)  \\\n",
       "count                      5881.000000                  5881.000000   \n",
       "mean                         -0.623548                     0.008524   \n",
       "std                           0.310371                     0.339730   \n",
       "min                          -0.999765                    -0.976580   \n",
       "25%                          -0.845985                    -0.122361   \n",
       "50%                          -0.712677                     0.010278   \n",
       "75%                          -0.501158                     0.154985   \n",
       "max                           0.956845                     1.000000   \n",
       "\n",
       "       angle(tBodyAccJerkMean),gravityMean)  angle(tBodyGyroMean,gravityMean)  \\\n",
       "count                           5881.000000                       5881.000000   \n",
       "mean                              -0.001185                          0.009340   \n",
       "std                                0.447197                          0.608190   \n",
       "min                               -1.000000                         -1.000000   \n",
       "25%                               -0.294369                         -0.481718   \n",
       "50%                                0.005146                          0.011448   \n",
       "75%                                0.285030                          0.499857   \n",
       "max                                1.000000                          0.998702   \n",
       "\n",
       "       angle(tBodyGyroJerkMean,gravityMean)  angle(X,gravityMean)  \\\n",
       "count                           5881.000000           5881.000000   \n",
       "mean                              -0.007099             -0.491501   \n",
       "std                                0.476738              0.509069   \n",
       "min                               -1.000000             -1.000000   \n",
       "25%                               -0.373345             -0.811397   \n",
       "50%                               -0.000847             -0.709441   \n",
       "75%                                0.356236             -0.511330   \n",
       "max                                0.996078              0.977344   \n",
       "\n",
       "       angle(Y,gravityMean)  angle(Z,gravityMean)  \n",
       "count           5881.000000           5881.000000  \n",
       "mean               0.059299             -0.054594  \n",
       "std                0.297340              0.278479  \n",
       "min               -1.000000             -0.980143  \n",
       "25%               -0.018203             -0.141555  \n",
       "50%                0.182893              0.003951  \n",
       "75%                0.248435              0.111932  \n",
       "max                0.478157              1.000000  \n",
       "\n",
       "[8 rows x 561 columns]"
      ]
     },
     "execution_count": 15,
     "metadata": {},
     "output_type": "execute_result"
    }
   ],
   "source": [
    "# 데이터 프레임 기초통계 정보 확인\n",
    "## data 데이터프레임의 수치형 데이터 기초통계 정보를 확인해 주세요.\n",
    "data.describe()\n",
    "\n"
   ]
  },
  {
   "attachments": {},
   "cell_type": "markdown",
   "metadata": {
    "id": "QivYs5qqMiu0"
   },
   "source": [
    "### [미션3] 데이터 프레임 Target 값 확인하기\n",
    "* data 데이터셋의 target 컬럼인 data['Activity'] 열에 대해 단변량 분석을 수행합니다.\n",
    "* 값(범주)의 종류, 값(범주)별 개수 및 비율을 검토하여 시각화 합니다.\n",
    " \n",
    "\n"
   ]
  },
  {
   "attachments": {},
   "cell_type": "markdown",
   "metadata": {},
   "source": [
    "\t- 실습순서: target 데이터 고유값(범주) 확인 -> 고유값 별 개수 확인 -> 고유값(범주) 별 비율 확인 -> 고유값(범주) 개수 시각화(수직막대 그래프)"
   ]
  },
  {
   "cell_type": "code",
   "execution_count": 16,
   "metadata": {
    "colab": {
     "base_uri": "https://localhost:8080/"
    },
    "executionInfo": {
     "elapsed": 574,
     "status": "ok",
     "timestamp": 1676246896049,
     "user": {
      "displayName": "YB Choi",
      "userId": "15474749006288987898"
     },
     "user_tz": -540
    },
    "id": "RanAghfNGIAm",
    "outputId": "edec261f-2111-4140-ef3a-2bbf42f79f1a",
    "tags": []
   },
   "outputs": [
    {
     "data": {
      "text/plain": [
       "array(['STANDING', 'LAYING', 'STANDING', ..., 'LAYING',\n",
       "       'WALKING_UPSTAIRS', 'SITTING'], dtype=object)"
      ]
     },
     "execution_count": 16,
     "metadata": {},
     "output_type": "execute_result"
    }
   ],
   "source": [
    "# target 데이터 고유값(범주) 확인\n",
    "## data['Activity'] 컬럼의 고유한 값(범주)을 확인 합니다.\n",
    "target = 'Activity'\n",
    "data[target].values\n",
    "\n"
   ]
  },
  {
   "cell_type": "code",
   "execution_count": 17,
   "metadata": {
    "colab": {
     "base_uri": "https://localhost:8080/"
    },
    "executionInfo": {
     "elapsed": 10,
     "status": "ok",
     "timestamp": 1676246898708,
     "user": {
      "displayName": "YB Choi",
      "userId": "15474749006288987898"
     },
     "user_tz": -540
    },
    "id": "5fTKwVPRK7VZ",
    "outputId": "34cf3f49-00a1-42a3-8e25-cd0f88ee6ed2",
    "tags": []
   },
   "outputs": [
    {
     "data": {
      "text/plain": [
       "LAYING                1115\n",
       "STANDING              1087\n",
       "SITTING               1032\n",
       "WALKING                998\n",
       "WALKING_UPSTAIRS       858\n",
       "WALKING_DOWNSTAIRS     791\n",
       "Name: Activity, dtype: int64"
      ]
     },
     "execution_count": 17,
     "metadata": {},
     "output_type": "execute_result"
    }
   ],
   "source": [
    "# target 데이터 고유값 별 개수 확인\n",
    "## data['Activity'] 컬럼의 고유한 값(범주)을 종류별 카운트 하세요.\n",
    "data[target].value_counts()\n"
   ]
  },
  {
   "cell_type": "code",
   "execution_count": 18,
   "metadata": {
    "colab": {
     "base_uri": "https://localhost:8080/"
    },
    "executionInfo": {
     "elapsed": 6,
     "status": "ok",
     "timestamp": 1676246901691,
     "user": {
      "displayName": "YB Choi",
      "userId": "15474749006288987898"
     },
     "user_tz": -540
    },
    "id": "N_KYcqnfPLoE",
    "outputId": "a32ad882-aeed-4fc7-aead-2b773f32c356",
    "tags": []
   },
   "outputs": [
    {
     "data": {
      "text/plain": [
       "LAYING                0.189594\n",
       "STANDING              0.184833\n",
       "SITTING               0.175480\n",
       "WALKING               0.169699\n",
       "WALKING_UPSTAIRS      0.145894\n",
       "WALKING_DOWNSTAIRS    0.134501\n",
       "Name: Activity, dtype: float64"
      ]
     },
     "execution_count": 18,
     "metadata": {},
     "output_type": "execute_result"
    }
   ],
   "source": [
    "# 고유값(범주) 별 비율 확인\n",
    "## data['Activity'] 컬럼의 고유한 값(범주)의 종류별 비율을 확인 하세요. \n",
    "## [TIP] 고유값 비율 = 개별 범주의 수 / 전체 범주의 수 \n",
    "data[target].value_counts()/len(data)\n"
   ]
  },
  {
   "cell_type": "code",
   "execution_count": 20,
   "metadata": {
    "colab": {
     "base_uri": "https://localhost:8080/",
     "height": 374
    },
    "executionInfo": {
     "elapsed": 673,
     "status": "ok",
     "timestamp": 1676246904621,
     "user": {
      "displayName": "YB Choi",
      "userId": "15474749006288987898"
     },
     "user_tz": -540
    },
    "id": "X7TPpkCrPXx3",
    "outputId": "e985cdb7-876f-449e-847a-d4854feaf1b9",
    "tags": []
   },
   "outputs": [
    {
     "data": {
      "image/png": "[encoded data removed]",
      "text/plain": [
       "<Figure size 640x480 with 1 Axes>"
      ]
     },
     "metadata": {},
     "output_type": "display_data"
    }
   ],
   "source": [
    "# 범주별 개수 시각화\n",
    "## seaborn 라이브러리의 함수를 사용하여 data['Activity'] 열의 범주별 개수를 시각화 하세요.\n",
    "sns.countplot(x=target, data=data)\n",
    "plt.xticks(rotation=90)\n",
    "plt.show()\n"
   ]
  },
  {
   "attachments": {},
   "cell_type": "markdown",
   "metadata": {
    "id": "wlmfrOTFV6a-"
   },
   "source": [
    "### [미션4] 센서 그룹 데이터(features) 확인하기\n"
   ]
  },
  {
   "cell_type": "markdown",
   "metadata": {},
   "source": [
    "* features.csv 파일은 train 데이터의 feature 들을 그룹으로 묶어 정리한 데이터 입니다.\n",
    "* feature 들을 어떻게 그룹화 할 수 있는지 확인해 봅니다.\n",
    "* data 폴더에서 feature.csv를 읽어와 각 센서그룹의 하위 계층의 수를 확인 하세요.\n"
   ]
  },
  {
   "attachments": {},
   "cell_type": "markdown",
   "metadata": {},
   "source": [
    "\t- 실습순서:features.csv 불러오기-> 'sensor'열 고유값(범주) 별 비율 확인 -> 'feature_name'열 고유값(범주) 별 비율 확인 -> 'agg'열 고유값(범주) 별 비율 확인 -> 'axis'열 고유값(범주) 별 비율 확인"
   ]
  },
  {
   "cell_type": "code",
   "execution_count": 21,
   "metadata": {},
   "outputs": [
    {
     "data": {
      "text/html": [
       "<div>\n",
       "<style scoped>\n",
       "    .dataframe tbody tr th:only-of-type {\n",
       "        vertical-align: middle;\n",
       "    }\n",
       "\n",
       "    .dataframe tbody tr th {\n",
       "        vertical-align: top;\n",
       "    }\n",
       "\n",
       "    .dataframe thead th {\n",
       "        text-align: right;\n",
       "    }\n",
       "</style>\n",
       "<table border=\"1\" class=\"dataframe\">\n",
       "  <thead>\n",
       "    <tr style=\"text-align: right;\">\n",
       "      <th></th>\n",
       "      <th>sensor</th>\n",
       "      <th>agg</th>\n",
       "      <th>axis</th>\n",
       "      <th>feature_name</th>\n",
       "    </tr>\n",
       "  </thead>\n",
       "  <tbody>\n",
       "    <tr>\n",
       "      <th>0</th>\n",
       "      <td>tBodyAcc</td>\n",
       "      <td>mean()</td>\n",
       "      <td>X</td>\n",
       "      <td>tBodyAcc-mean()-X</td>\n",
       "    </tr>\n",
       "    <tr>\n",
       "      <th>1</th>\n",
       "      <td>tBodyAcc</td>\n",
       "      <td>mean()</td>\n",
       "      <td>Y</td>\n",
       "      <td>tBodyAcc-mean()-Y</td>\n",
       "    </tr>\n",
       "    <tr>\n",
       "      <th>2</th>\n",
       "      <td>tBodyAcc</td>\n",
       "      <td>mean()</td>\n",
       "      <td>Z</td>\n",
       "      <td>tBodyAcc-mean()-Z</td>\n",
       "    </tr>\n",
       "    <tr>\n",
       "      <th>3</th>\n",
       "      <td>tBodyAcc</td>\n",
       "      <td>std()</td>\n",
       "      <td>X</td>\n",
       "      <td>tBodyAcc-std()-X</td>\n",
       "    </tr>\n",
       "    <tr>\n",
       "      <th>4</th>\n",
       "      <td>tBodyAcc</td>\n",
       "      <td>std()</td>\n",
       "      <td>Y</td>\n",
       "      <td>tBodyAcc-std()-Y</td>\n",
       "    </tr>\n",
       "  </tbody>\n",
       "</table>\n",
       "</div>"
      ],
      "text/plain": [
       "     sensor     agg axis       feature_name\n",
       "0  tBodyAcc  mean()    X  tBodyAcc-mean()-X\n",
       "1  tBodyAcc  mean()    Y  tBodyAcc-mean()-Y\n",
       "2  tBodyAcc  mean()    Z  tBodyAcc-mean()-Z\n",
       "3  tBodyAcc   std()    X   tBodyAcc-std()-X\n",
       "4  tBodyAcc   std()    Y   tBodyAcc-std()-Y"
      ]
     },
     "execution_count": 21,
     "metadata": {},
     "output_type": "execute_result"
    }
   ],
   "source": [
    "# features.csv 파일 불러오기\n",
    "## 'data'폴더에서 features.csv 파일을 읽어와 features 변수에 할당 하세요.\n",
    "path2 = './data/features.csv'\n",
    "features = pd.read_csv(path2)\n",
    "features.head()"
   ]
  },
  {
   "cell_type": "code",
   "execution_count": 22,
   "metadata": {},
   "outputs": [
    {
     "data": {
      "text/plain": [
       "fBodyGyro               79\n",
       "fBodyAcc                79\n",
       "fBodyAccJerk            79\n",
       "tBodyAcc                40\n",
       "tBodyAccJerk            40\n",
       "tBodyGyro               40\n",
       "tBodyGyroJerk           40\n",
       "tGravityAcc             40\n",
       "fBodyBodyGyroJerkMag    13\n",
       "fBodyBodyGyroMag        13\n",
       "fBodyBodyAccJerkMag     13\n",
       "fBodyAccMag             13\n",
       "tBodyGyroJerkMag        13\n",
       "tBodyGyroMag            13\n",
       "tBodyAccJerkMag         13\n",
       "tGravityAccMag          13\n",
       "tBodyAccMag             13\n",
       "angle                    7\n",
       "Name: sensor, dtype: int64"
      ]
     },
     "execution_count": 22,
     "metadata": {},
     "output_type": "execute_result"
    }
   ],
   "source": [
    "# features['sensor'] 데이터 고유값 별 개수 확인\n",
    "## features['sensor'] 컬럼의 고유한 값 별 개수를 카운트 하세요\n",
    "target = 'sensor'\n",
    "features[target].value_counts()\n"
   ]
  },
  {
   "cell_type": "code",
   "execution_count": 23,
   "metadata": {
    "colab": {
     "base_uri": "https://localhost:8080/"
    },
    "executionInfo": {
     "elapsed": 553,
     "status": "ok",
     "timestamp": 1676246912087,
     "user": {
      "displayName": "YB Choi",
      "userId": "15474749006288987898"
     },
     "user_tz": -540
    },
    "id": "KbNqUQJyFztM",
    "outputId": "a1c1414e-c23f-4573-a30d-404ab11fd0d2",
    "tags": []
   },
   "outputs": [
    {
     "data": {
      "text/plain": [
       "fBodyGyro-bandsEnergy()-25,32    3\n",
       "fBodyGyro-bandsEnergy()-49,56    3\n",
       "fBodyGyro-bandsEnergy()-25,48    3\n",
       "fBodyGyro-bandsEnergy()-1,24     3\n",
       "fBodyGyro-bandsEnergy()-49,64    3\n",
       "                                ..\n",
       "tBodyGyroJerk-min()-X            1\n",
       "tBodyGyroJerk-max()-Z            1\n",
       "tBodyGyroJerk-max()-Y            1\n",
       "tBodyGyroJerk-max()-X            1\n",
       "angle(Z,gravityMean)             1\n",
       "Name: feature_name, Length: 533, dtype: int64"
      ]
     },
     "execution_count": 23,
     "metadata": {},
     "output_type": "execute_result"
    }
   ],
   "source": [
    "# features['feature_name']  데이터 고유값 별 개수 확인\n",
    "## features['feature_name']  컬럼의 고유한 값 별 개수를 카운트 하세요.\n",
    "features['feature_name'].value_counts()\n",
    "\n"
   ]
  },
  {
   "cell_type": "code",
   "execution_count": 24,
   "metadata": {
    "colab": {
     "base_uri": "https://localhost:8080/"
    },
    "executionInfo": {
     "elapsed": 3,
     "status": "ok",
     "timestamp": 1676246915082,
     "user": {
      "displayName": "YB Choi",
      "userId": "15474749006288987898"
     },
     "user_tz": -540
    },
    "id": "7iUzzCVIF6Ag",
    "outputId": "bada8eef-90b1-45b1-bed2-12116f3a8ced",
    "tags": []
   },
   "outputs": [
    {
     "data": {
      "text/plain": [
       "bandsEnergy()        126\n",
       "arCoeff()             60\n",
       "mean()                33\n",
       "mad()                 33\n",
       "max()                 33\n",
       "min()                 33\n",
       "energy()              33\n",
       "iqr()                 33\n",
       "entropy()             33\n",
       "std()                 33\n",
       "sma()                 17\n",
       "correlation()         15\n",
       "meanFreq()            13\n",
       "kurtosis()            13\n",
       "skewness()            13\n",
       "maxInds               13\n",
       "arCoeff()3             5\n",
       "arCoeff()4             5\n",
       "arCoeff()2             5\n",
       "arCoeff()1             5\n",
       "tBodyAccMean           1\n",
       "tBodyAccJerkMean       1\n",
       "tBodyGyroMean          1\n",
       "tBodyGyroJerkMean      1\n",
       "X                      1\n",
       "Y                      1\n",
       "Z                      1\n",
       "Name: agg, dtype: int64"
      ]
     },
     "execution_count": 24,
     "metadata": {},
     "output_type": "execute_result"
    }
   ],
   "source": [
    "# features['agg']  데이터 고유값 별 개수 확인\n",
    "## features['agg'] 컬럼의 고유한 값 별 개수를 카운트 하세요.\n",
    "features['agg'].value_counts()\n"
   ]
  },
  {
   "cell_type": "code",
   "execution_count": 25,
   "metadata": {
    "colab": {
     "base_uri": "https://localhost:8080/"
    },
    "executionInfo": {
     "elapsed": 4,
     "status": "ok",
     "timestamp": 1676246917542,
     "user": {
      "displayName": "YB Choi",
      "userId": "15474749006288987898"
     },
     "user_tz": -540
    },
    "id": "60rRSVD-F701",
    "outputId": "3e41fe9c-52c5-4ee6-8fe3-5bb16cd7b394",
    "tags": []
   },
   "outputs": [
    {
     "data": {
      "text/plain": [
       "X              76\n",
       "Y              76\n",
       "Z              76\n",
       "gravityMean     6\n",
       "X,2             5\n",
       "               ..\n",
       "25,32.1         2\n",
       "17,24.1         2\n",
       "1,8.1           2\n",
       "9,16.1          2\n",
       "gravity         1\n",
       "Name: axis, Length: 62, dtype: int64"
      ]
     },
     "execution_count": 25,
     "metadata": {},
     "output_type": "execute_result"
    }
   ],
   "source": [
    "# features['axis'] 데이터 고유값 별 개수 확인\n",
    "## features['axis'] 컬럼의 고유한 값 별 개수를 카운트 하세요.\n",
    "features['axis'].value_counts()\n"
   ]
  },
  {
   "attachments": {},
   "cell_type": "markdown",
   "metadata": {
    "id": "Xm-hz69fGIAp"
   },
   "source": [
    "### [미션5] 행동패턴 예측 AI 모델링 \n",
    "* Random Forest 알고리즘을 사용하여 모델링을 실시 합니다.\n",
    "* 학습 데이터 y(target) 는 data['Activity']를 사용하고, x 는 data['Activity']과 data['subject']를 제외한 나머지 561개의 data 컬럼을 사용합니다.\n",
    "* 모델링이 완료되면 accuracy_score, confusion_matrix, classification_report 을 출력하세요.\n"
   ]
  },
  {
   "attachments": {},
   "cell_type": "markdown",
   "metadata": {},
   "source": [
    "\t- 실습순서:AI 라이브러리 불러오기-> X, Y데이터 나누기 -> 학습 데이터 나누기 -> 모델 선언하기 -> 모델 학습 -> 모델 예측 -> 모델 성능 평가"
   ]
  },
  {
   "cell_type": "code",
   "execution_count": 24,
   "metadata": {
    "colab": {
     "base_uri": "https://localhost:8080/"
    },
    "executionInfo": {
     "elapsed": 5063,
     "status": "ok",
     "timestamp": 1676246927468,
     "user": {
      "displayName": "YB Choi",
      "userId": "15474749006288987898"
     },
     "user_tz": -540
    },
    "id": "JJt3aOPWGIAp",
    "outputId": "9e35a5c8-cec9-4ce7-d15d-257b7bdc466e",
    "tags": []
   },
   "outputs": [],
   "source": [
    "# 필요 AI 알고리즘 라이브러리 설치\n",
    "# !pip install scikit-learn\n"
   ]
  },
  {
   "cell_type": "code",
   "execution_count": 26,
   "metadata": {
    "executionInfo": {
     "elapsed": 299,
     "status": "ok",
     "timestamp": 1676246980387,
     "user": {
      "displayName": "YB Choi",
      "userId": "15474749006288987898"
     },
     "user_tz": -540
    },
    "id": "OubcmUMwGIAq",
    "tags": []
   },
   "outputs": [],
   "source": [
    "# RandomForestClassifier 알고리즘 불러오기\n",
    "## AI 모델링을 위해 sklearn.ensemble 라이브러리의 RandomForestClassifier 알고리즘 호출 합니다.\n",
    "## 데이터를 나누기 위해 sklearn.model_selection 모듈의 train_test_split 함수를 호출 합니다.\n",
    "## 모델 성능평가 출력을 위해 sklearn.metrics 모듈의 모든 클래스 호출 합니다.\n",
    "from sklearn.model_selection import train_test_split\n",
    "from sklearn.ensemble import RandomForestClassifier\n",
    "from sklearn.metrics import *\n"
   ]
  },
  {
   "cell_type": "code",
   "execution_count": 27,
   "metadata": {
    "executionInfo": {
     "elapsed": 444,
     "status": "ok",
     "timestamp": 1676246983681,
     "user": {
      "displayName": "YB Choi",
      "userId": "15474749006288987898"
     },
     "user_tz": -540
    },
    "id": "C_A1URAmXUlm",
    "tags": []
   },
   "outputs": [],
   "source": [
    "# 모델 학습을 위한 X, Y 데이터 나누기\n",
    "## y 변수에 target으로 사용할 data['Activity']을 할당해 주세요.\n",
    "## data 에서 data['Activity'] 열을 뺀 나머지 x 변수에 할당해 주세요.\n",
    "x = data.drop('Activity', axis=1)\n",
    "y = data['Activity']"
   ]
  },
  {
   "cell_type": "code",
   "execution_count": 28,
   "metadata": {},
   "outputs": [],
   "source": [
    "# 데이터 나누기\n",
    "## 학습에 필요한 x 와 y 데이터를 학습 7 : 검증 3 비율로 나누어 주세요.\n",
    "## 이때 random_state 는 2023 으로 설정해 주세요.\n",
    "## 데이터를 할당받을 변수명: x_train, x_val, y_train, y_val\n",
    "x_train, x_val, y_train, y_val = train_test_split(x, y, test_size=0.3, random_state=2023)\n"
   ]
  },
  {
   "cell_type": "code",
   "execution_count": 29,
   "metadata": {
    "executionInfo": {
     "elapsed": 316,
     "status": "ok",
     "timestamp": 1676246987153,
     "user": {
      "displayName": "YB Choi",
      "userId": "15474749006288987898"
     },
     "user_tz": -540
    },
    "id": "9XeNd-owX6j4",
    "tags": []
   },
   "outputs": [],
   "source": [
    "# 모델 선언하기\n",
    "## rf_model 변수에 RandomForestClassifier 함수를 사용하여 모델을 호출 및 초기화 합니다.\n",
    "## 이때 random_state 는 2023 으로 설정해 주세요.\n",
    "rf_model = RandomForestClassifier(random_state=2023)\n"
   ]
  },
  {
   "cell_type": "code",
   "execution_count": 30,
   "metadata": {
    "colab": {
     "base_uri": "https://localhost:8080/",
     "height": 360
    },
    "executionInfo": {
     "elapsed": 8,
     "status": "error",
     "timestamp": 1676246990576,
     "user": {
      "displayName": "YB Choi",
      "userId": "15474749006288987898"
     },
     "user_tz": -540
    },
    "id": "UvnTw1nEGIAq",
    "outputId": "e9077912-0e7e-4db2-db7b-4eb78f9307a4",
    "tags": []
   },
   "outputs": [
    {
     "data": {
      "text/html": [
       "<style>#sk-container-id-1 {color: black;background-color: white;}#sk-container-id-1 pre{padding: 0;}#sk-container-id-1 div.sk-toggleable {background-color: white;}#sk-container-id-1 label.sk-toggleable__label {cursor: pointer;display: block;width: 100%;margin-bottom: 0;padding: 0.3em;box-sizing: border-box;text-align: center;}#sk-container-id-1 label.sk-toggleable__label-arrow:before {content: \"▸\";float: left;margin-right: 0.25em;color: #696969;}#sk-container-id-1 label.sk-toggleable__label-arrow:hover:before {color: black;}#sk-container-id-1 div.sk-estimator:hover label.sk-toggleable__label-arrow:before {color: black;}#sk-container-id-1 div.sk-toggleable__content {max-height: 0;max-width: 0;overflow: hidden;text-align: left;background-color: #f0f8ff;}#sk-container-id-1 div.sk-toggleable__content pre {margin: 0.2em;color: black;border-radius: 0.25em;background-color: #f0f8ff;}#sk-container-id-1 input.sk-toggleable__control:checked~div.sk-toggleable__content {max-height: 200px;max-width: 100%;overflow: auto;}#sk-container-id-1 input.sk-toggleable__control:checked~label.sk-toggleable__label-arrow:before {content: \"▾\";}#sk-container-id-1 div.sk-estimator input.sk-toggleable__control:checked~label.sk-toggleable__label {background-color: #d4ebff;}#sk-container-id-1 div.sk-label input.sk-toggleable__control:checked~label.sk-toggleable__label {background-color: #d4ebff;}#sk-container-id-1 input.sk-hidden--visually {border: 0;clip: rect(1px 1px 1px 1px);clip: rect(1px, 1px, 1px, 1px);height: 1px;margin: -1px;overflow: hidden;padding: 0;position: absolute;width: 1px;}#sk-container-id-1 div.sk-estimator {font-family: monospace;background-color: #f0f8ff;border: 1px dotted black;border-radius: 0.25em;box-sizing: border-box;margin-bottom: 0.5em;}#sk-container-id-1 div.sk-estimator:hover {background-color: #d4ebff;}#sk-container-id-1 div.sk-parallel-item::after {content: \"\";width: 100%;border-bottom: 1px solid gray;flex-grow: 1;}#sk-container-id-1 div.sk-label:hover label.sk-toggleable__label {background-color: #d4ebff;}#sk-container-id-1 div.sk-serial::before {content: \"\";position: absolute;border-left: 1px solid gray;box-sizing: border-box;top: 0;bottom: 0;left: 50%;z-index: 0;}#sk-container-id-1 div.sk-serial {display: flex;flex-direction: column;align-items: center;background-color: white;padding-right: 0.2em;padding-left: 0.2em;position: relative;}#sk-container-id-1 div.sk-item {position: relative;z-index: 1;}#sk-container-id-1 div.sk-parallel {display: flex;align-items: stretch;justify-content: center;background-color: white;position: relative;}#sk-container-id-1 div.sk-item::before, #sk-container-id-1 div.sk-parallel-item::before {content: \"\";position: absolute;border-left: 1px solid gray;box-sizing: border-box;top: 0;bottom: 0;left: 50%;z-index: -1;}#sk-container-id-1 div.sk-parallel-item {display: flex;flex-direction: column;z-index: 1;position: relative;background-color: white;}#sk-container-id-1 div.sk-parallel-item:first-child::after {align-self: flex-end;width: 50%;}#sk-container-id-1 div.sk-parallel-item:last-child::after {align-self: flex-start;width: 50%;}#sk-container-id-1 div.sk-parallel-item:only-child::after {width: 0;}#sk-container-id-1 div.sk-dashed-wrapped {border: 1px dashed gray;margin: 0 0.4em 0.5em 0.4em;box-sizing: border-box;padding-bottom: 0.4em;background-color: white;}#sk-container-id-1 div.sk-label label {font-family: monospace;font-weight: bold;display: inline-block;line-height: 1.2em;}#sk-container-id-1 div.sk-label-container {text-align: center;}#sk-container-id-1 div.sk-container {/* jupyter's `normalize.less` sets `[hidden] { display: none; }` but bootstrap.min.css set `[hidden] { display: none !important; }` so we also need the `!important` here to be able to override the default hidden behavior on the sphinx rendered scikit-learn.org. See: https://github.com/scikit-learn/scikit-learn/issues/21755 */display: inline-block !important;position: relative;}#sk-container-id-1 div.sk-text-repr-fallback {display: none;}</style><div id=\"sk-container-id-1\" class=\"sk-top-container\"><div class=\"sk-text-repr-fallback\"><pre>RandomForestClassifier(random_state=2023)</pre><b>In a Jupyter environment, please rerun this cell to show the HTML representation or trust the notebook. <br />On GitHub, the HTML representation is unable to render, please try loading this page with nbviewer.org.</b></div><div class=\"sk-container\" hidden><div class=\"sk-item\"><div class=\"sk-estimator sk-toggleable\"><input class=\"sk-toggleable__control sk-hidden--visually\" id=\"sk-estimator-id-1\" type=\"checkbox\" checked><label for=\"sk-estimator-id-1\" class=\"sk-toggleable__label sk-toggleable__label-arrow\">RandomForestClassifier</label><div class=\"sk-toggleable__content\"><pre>RandomForestClassifier(random_state=2023)</pre></div></div></div></div></div>"
      ],
      "text/plain": [
       "RandomForestClassifier(random_state=2023)"
      ]
     },
     "execution_count": 30,
     "metadata": {},
     "output_type": "execute_result"
    }
   ],
   "source": [
    "# 모델 학습하기\n",
    "## 생성한 rf_model 모델 변수에 x_train, y_train 데이터를 대입하여 모델을 학습시킵니다.\n",
    "rf_model.fit(x_train, y_train)"
   ]
  },
  {
   "cell_type": "code",
   "execution_count": 31,
   "metadata": {},
   "outputs": [],
   "source": [
    "# 모델 예측하기\n",
    "## 학습이 완료된 모델에 x_val 데이터를 대입하여 예측결과를 도출하고 rf_pred 변수에 할당 합니다.\n",
    "rf_pred = rf_model.predict(x_val)\n"
   ]
  },
  {
   "cell_type": "code",
   "execution_count": 32,
   "metadata": {
    "id": "Nin3DQbDGIAq",
    "outputId": "53d117c2-2ecc-471b-9297-d5b68c431792",
    "tags": []
   },
   "outputs": [
    {
     "name": "stdout",
     "output_type": "stream",
     "text": [
      "0.975070821529745\n",
      "\n",
      "[[354   0   0   0   0   0]\n",
      " [  0 313  15   0   0   0]\n",
      " [  0  13 313   0   0   0]\n",
      " [  0   0   0 265   3   3]\n",
      " [  0   0   0   4 224   4]\n",
      " [  0   0   0   0   2 252]]\n",
      "\n",
      "                    precision    recall  f1-score   support\n",
      "\n",
      "            LAYING       1.00      1.00      1.00       354\n",
      "           SITTING       0.96      0.95      0.96       328\n",
      "          STANDING       0.95      0.96      0.96       326\n",
      "           WALKING       0.99      0.98      0.98       271\n",
      "WALKING_DOWNSTAIRS       0.98      0.97      0.97       232\n",
      "  WALKING_UPSTAIRS       0.97      0.99      0.98       254\n",
      "\n",
      "          accuracy                           0.98      1765\n",
      "         macro avg       0.98      0.97      0.98      1765\n",
      "      weighted avg       0.98      0.98      0.98      1765\n",
      "\n"
     ]
    }
   ],
   "source": [
    "# 모델 성능 평가\n",
    "## 모델이 결과를 잘 예측하였는지 3가지 성능지표로 결과를 평가 합니다.\n",
    "## 3가지 성능지표: accuracy_score, confusion_matrix, classification_report\n",
    "print(accuracy_score(y_val, rf_pred))\n",
    "print()\n",
    "print(confusion_matrix(y_val, rf_pred))\n",
    "print()\n",
    "print(classification_report(y_val, rf_pred))"
   ]
  },
  {
   "cell_type": "markdown",
   "metadata": {},
   "source": [
    "----------"
   ]
  },
  {
   "cell_type": "markdown",
   "metadata": {},
   "source": [
    "# 수고하셨습니다."
   ]
  },
  {
   "cell_type": "markdown",
   "metadata": {},
   "source": [
    "----------"
   ]
  },
  {
   "cell_type": "markdown",
   "metadata": {},
   "source": []
  }
 ],
 "metadata": {
  "colab": {
   "collapsed_sections": [
    "qYbmMZar6VKS",
    "Zk42KHA18n6V"
   ],
   "provenance": []
  },
  "kernelspec": {
   "display_name": "base",
   "language": "python",
   "name": "python3"
  },
  "language_info": {
   "codemirror_mode": {
    "name": "ipython",
    "version": 3
   },
   "file_extension": ".py",
   "mimetype": "text/x-python",
   "name": "python",
   "nbconvert_exporter": "python",
   "pygments_lexer": "ipython3",
   "version": "3.11.3"
  },
  "vscode": {
   "interpreter": {
    "hash": "f08154012ddadd8e950e6e9e035c7a7b32c136e7647e9b7c77e02eb723a8bedb"
   }
  }
 },
 "nbformat": 4,
 "nbformat_minor": 4
}
